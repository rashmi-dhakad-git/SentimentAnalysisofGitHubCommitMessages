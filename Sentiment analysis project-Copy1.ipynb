{
 "cells": [
  {
   "cell_type": "code",
   "execution_count": 1,
   "id": "b11258fd",
   "metadata": {},
   "outputs": [],
   "source": [
    "import pandas as pd\n",
    "from nltk.sentiment.vader import SentimentIntensityAnalyzer\n",
    "import warnings \n",
    "warnings.filterwarnings('ignore')"
   ]
  },
  {
   "cell_type": "code",
   "execution_count": 2,
   "id": "5f479ff4",
   "metadata": {},
   "outputs": [],
   "source": [
    "# Loading CSV data \n",
    "data = pd.read_csv('full.csv')  "
   ]
  },
  {
   "cell_type": "code",
   "execution_count": 3,
   "id": "296a19b9",
   "metadata": {},
   "outputs": [
    {
     "data": {
      "text/html": [
       "<div>\n",
       "<style scoped>\n",
       "    .dataframe tbody tr th:only-of-type {\n",
       "        vertical-align: middle;\n",
       "    }\n",
       "\n",
       "    .dataframe tbody tr th {\n",
       "        vertical-align: top;\n",
       "    }\n",
       "\n",
       "    .dataframe thead th {\n",
       "        text-align: right;\n",
       "    }\n",
       "</style>\n",
       "<table border=\"1\" class=\"dataframe\">\n",
       "  <thead>\n",
       "    <tr style=\"text-align: right;\">\n",
       "      <th></th>\n",
       "      <th>commit</th>\n",
       "      <th>author</th>\n",
       "      <th>date</th>\n",
       "      <th>message</th>\n",
       "      <th>repo</th>\n",
       "    </tr>\n",
       "  </thead>\n",
       "  <tbody>\n",
       "    <tr>\n",
       "      <th>0</th>\n",
       "      <td>692bba578efb5e305c9b116568e5aad75b3fdbb3</td>\n",
       "      <td>Mortada Mehyar &lt;mortada@users.noreply.github.com&gt;</td>\n",
       "      <td>Wed Apr 21 12:27:07 2021 +0800</td>\n",
       "      <td>DOC: add example for plotting asymmetrical err...</td>\n",
       "      <td>pandas-dev/pandas</td>\n",
       "    </tr>\n",
       "    <tr>\n",
       "      <th>1</th>\n",
       "      <td>855696cde0ef5d80a7d4bd3f6a2940c5a2fecb3f</td>\n",
       "      <td>Patrick Hoefler &lt;61934744+phofl@users.noreply....</td>\n",
       "      <td>Wed Apr 21 01:23:07 2021 +0200</td>\n",
       "      <td>Add keyword sort to pivot_table (#40954)</td>\n",
       "      <td>pandas-dev/pandas</td>\n",
       "    </tr>\n",
       "    <tr>\n",
       "      <th>2</th>\n",
       "      <td>eaaefd140289a5103679ac6748567f724c7be56a</td>\n",
       "      <td>attack68 &lt;24256554+attack68@users.noreply.gith...</td>\n",
       "      <td>Wed Apr 21 01:21:22 2021 +0200</td>\n",
       "      <td>ENH: `Styler.highlight_quantile` method (#40926)</td>\n",
       "      <td>pandas-dev/pandas</td>\n",
       "    </tr>\n",
       "    <tr>\n",
       "      <th>3</th>\n",
       "      <td>aab87997058f3c74ba70286620ebe792ee4ef169</td>\n",
       "      <td>attack68 &lt;24256554+attack68@users.noreply.gith...</td>\n",
       "      <td>Wed Apr 21 01:01:03 2021 +0200</td>\n",
       "      <td>ENH: add `decimal` and `thousands` args to `St...</td>\n",
       "      <td>pandas-dev/pandas</td>\n",
       "    </tr>\n",
       "    <tr>\n",
       "      <th>4</th>\n",
       "      <td>9c43cd7675d96174051e470de1f45e2bf7c9ebdc</td>\n",
       "      <td>Simon Hawkins &lt;simonjayhawkins@gmail.com&gt;</td>\n",
       "      <td>Tue Apr 20 23:58:18 2021 +0100</td>\n",
       "      <td>[ArrowStringArray] Use utf8_upper and utf8_low...</td>\n",
       "      <td>pandas-dev/pandas</td>\n",
       "    </tr>\n",
       "  </tbody>\n",
       "</table>\n",
       "</div>"
      ],
      "text/plain": [
       "                                     commit  \\\n",
       "0  692bba578efb5e305c9b116568e5aad75b3fdbb3   \n",
       "1  855696cde0ef5d80a7d4bd3f6a2940c5a2fecb3f   \n",
       "2  eaaefd140289a5103679ac6748567f724c7be56a   \n",
       "3  aab87997058f3c74ba70286620ebe792ee4ef169   \n",
       "4  9c43cd7675d96174051e470de1f45e2bf7c9ebdc   \n",
       "\n",
       "                                              author  \\\n",
       "0  Mortada Mehyar <mortada@users.noreply.github.com>   \n",
       "1  Patrick Hoefler <61934744+phofl@users.noreply....   \n",
       "2  attack68 <24256554+attack68@users.noreply.gith...   \n",
       "3  attack68 <24256554+attack68@users.noreply.gith...   \n",
       "4          Simon Hawkins <simonjayhawkins@gmail.com>   \n",
       "\n",
       "                             date  \\\n",
       "0  Wed Apr 21 12:27:07 2021 +0800   \n",
       "1  Wed Apr 21 01:23:07 2021 +0200   \n",
       "2  Wed Apr 21 01:21:22 2021 +0200   \n",
       "3  Wed Apr 21 01:01:03 2021 +0200   \n",
       "4  Tue Apr 20 23:58:18 2021 +0100   \n",
       "\n",
       "                                             message               repo  \n",
       "0  DOC: add example for plotting asymmetrical err...  pandas-dev/pandas  \n",
       "1           Add keyword sort to pivot_table (#40954)  pandas-dev/pandas  \n",
       "2   ENH: `Styler.highlight_quantile` method (#40926)  pandas-dev/pandas  \n",
       "3  ENH: add `decimal` and `thousands` args to `St...  pandas-dev/pandas  \n",
       "4  [ArrowStringArray] Use utf8_upper and utf8_low...  pandas-dev/pandas  "
      ]
     },
     "execution_count": 3,
     "metadata": {},
     "output_type": "execute_result"
    }
   ],
   "source": [
    "data.head()"
   ]
  },
  {
   "cell_type": "code",
   "execution_count": 4,
   "id": "ac9f390b",
   "metadata": {},
   "outputs": [],
   "source": [
    "text_column='message'"
   ]
  },
  {
   "cell_type": "code",
   "execution_count": 5,
   "id": "ebd6b709",
   "metadata": {},
   "outputs": [],
   "source": [
    "sid=SentimentIntensityAnalyzer()"
   ]
  },
  {
   "cell_type": "code",
   "execution_count": 6,
   "id": "adf226d8",
   "metadata": {},
   "outputs": [],
   "source": [
    "#creating a sample dataframe of 10 rows\n",
    "new_data = data.iloc[:10]"
   ]
  },
  {
   "cell_type": "code",
   "execution_count": 7,
   "id": "d4c5cd6f",
   "metadata": {},
   "outputs": [
    {
     "data": {
      "text/html": [
       "<div>\n",
       "<style scoped>\n",
       "    .dataframe tbody tr th:only-of-type {\n",
       "        vertical-align: middle;\n",
       "    }\n",
       "\n",
       "    .dataframe tbody tr th {\n",
       "        vertical-align: top;\n",
       "    }\n",
       "\n",
       "    .dataframe thead th {\n",
       "        text-align: right;\n",
       "    }\n",
       "</style>\n",
       "<table border=\"1\" class=\"dataframe\">\n",
       "  <thead>\n",
       "    <tr style=\"text-align: right;\">\n",
       "      <th></th>\n",
       "      <th>commit</th>\n",
       "      <th>author</th>\n",
       "      <th>date</th>\n",
       "      <th>message</th>\n",
       "      <th>repo</th>\n",
       "    </tr>\n",
       "  </thead>\n",
       "  <tbody>\n",
       "    <tr>\n",
       "      <th>0</th>\n",
       "      <td>692bba578efb5e305c9b116568e5aad75b3fdbb3</td>\n",
       "      <td>Mortada Mehyar &lt;mortada@users.noreply.github.com&gt;</td>\n",
       "      <td>Wed Apr 21 12:27:07 2021 +0800</td>\n",
       "      <td>DOC: add example for plotting asymmetrical err...</td>\n",
       "      <td>pandas-dev/pandas</td>\n",
       "    </tr>\n",
       "    <tr>\n",
       "      <th>1</th>\n",
       "      <td>855696cde0ef5d80a7d4bd3f6a2940c5a2fecb3f</td>\n",
       "      <td>Patrick Hoefler &lt;61934744+phofl@users.noreply....</td>\n",
       "      <td>Wed Apr 21 01:23:07 2021 +0200</td>\n",
       "      <td>Add keyword sort to pivot_table (#40954)</td>\n",
       "      <td>pandas-dev/pandas</td>\n",
       "    </tr>\n",
       "    <tr>\n",
       "      <th>2</th>\n",
       "      <td>eaaefd140289a5103679ac6748567f724c7be56a</td>\n",
       "      <td>attack68 &lt;24256554+attack68@users.noreply.gith...</td>\n",
       "      <td>Wed Apr 21 01:21:22 2021 +0200</td>\n",
       "      <td>ENH: `Styler.highlight_quantile` method (#40926)</td>\n",
       "      <td>pandas-dev/pandas</td>\n",
       "    </tr>\n",
       "    <tr>\n",
       "      <th>3</th>\n",
       "      <td>aab87997058f3c74ba70286620ebe792ee4ef169</td>\n",
       "      <td>attack68 &lt;24256554+attack68@users.noreply.gith...</td>\n",
       "      <td>Wed Apr 21 01:01:03 2021 +0200</td>\n",
       "      <td>ENH: add `decimal` and `thousands` args to `St...</td>\n",
       "      <td>pandas-dev/pandas</td>\n",
       "    </tr>\n",
       "    <tr>\n",
       "      <th>4</th>\n",
       "      <td>9c43cd7675d96174051e470de1f45e2bf7c9ebdc</td>\n",
       "      <td>Simon Hawkins &lt;simonjayhawkins@gmail.com&gt;</td>\n",
       "      <td>Tue Apr 20 23:58:18 2021 +0100</td>\n",
       "      <td>[ArrowStringArray] Use utf8_upper and utf8_low...</td>\n",
       "      <td>pandas-dev/pandas</td>\n",
       "    </tr>\n",
       "    <tr>\n",
       "      <th>5</th>\n",
       "      <td>9e091427a26aa313bbcb8c46c5b434ce47775fe0</td>\n",
       "      <td>jbrockmendel &lt;jbrockmendel@gmail.com&gt;</td>\n",
       "      <td>Tue Apr 20 15:56:41 2021 -0700</td>\n",
       "      <td>BUG: groupby.rank with MaskedArray incorrect c...</td>\n",
       "      <td>pandas-dev/pandas</td>\n",
       "    </tr>\n",
       "    <tr>\n",
       "      <th>6</th>\n",
       "      <td>1b95e1bdb566242b3ad1e19df7e9a5ff7dfc5f14</td>\n",
       "      <td>jbrockmendel &lt;jbrockmendel@gmail.com&gt;</td>\n",
       "      <td>Tue Apr 20 15:55:13 2021 -0700</td>\n",
       "      <td>DOC: more accurate wording in roadmap (#41057)</td>\n",
       "      <td>pandas-dev/pandas</td>\n",
       "    </tr>\n",
       "    <tr>\n",
       "      <th>7</th>\n",
       "      <td>9531e0915338528bf0852abfdc6d8a72b8de9396</td>\n",
       "      <td>jbrockmendel &lt;jbrockmendel@gmail.com&gt;</td>\n",
       "      <td>Tue Apr 20 15:54:47 2021 -0700</td>\n",
       "      <td>REF: move only-used-once mixins to resample (#...</td>\n",
       "      <td>pandas-dev/pandas</td>\n",
       "    </tr>\n",
       "    <tr>\n",
       "      <th>8</th>\n",
       "      <td>8b1430d4a885b235a66d600133a050d537608137</td>\n",
       "      <td>Patrick Hoefler &lt;61934744+phofl@users.noreply....</td>\n",
       "      <td>Wed Apr 21 00:51:38 2021 +0200</td>\n",
       "      <td>TST: Add test for union with duplicates (#40967)</td>\n",
       "      <td>pandas-dev/pandas</td>\n",
       "    </tr>\n",
       "    <tr>\n",
       "      <th>9</th>\n",
       "      <td>95d2667dd88ba71593bcaa7dd2ad51f7e290325d</td>\n",
       "      <td>Patrick Hoefler &lt;61934744+phofl@users.noreply....</td>\n",
       "      <td>Wed Apr 21 00:50:55 2021 +0200</td>\n",
       "      <td>Clarify docs for MultiIndex drops and levels (...</td>\n",
       "      <td>pandas-dev/pandas</td>\n",
       "    </tr>\n",
       "  </tbody>\n",
       "</table>\n",
       "</div>"
      ],
      "text/plain": [
       "                                     commit  \\\n",
       "0  692bba578efb5e305c9b116568e5aad75b3fdbb3   \n",
       "1  855696cde0ef5d80a7d4bd3f6a2940c5a2fecb3f   \n",
       "2  eaaefd140289a5103679ac6748567f724c7be56a   \n",
       "3  aab87997058f3c74ba70286620ebe792ee4ef169   \n",
       "4  9c43cd7675d96174051e470de1f45e2bf7c9ebdc   \n",
       "5  9e091427a26aa313bbcb8c46c5b434ce47775fe0   \n",
       "6  1b95e1bdb566242b3ad1e19df7e9a5ff7dfc5f14   \n",
       "7  9531e0915338528bf0852abfdc6d8a72b8de9396   \n",
       "8  8b1430d4a885b235a66d600133a050d537608137   \n",
       "9  95d2667dd88ba71593bcaa7dd2ad51f7e290325d   \n",
       "\n",
       "                                              author  \\\n",
       "0  Mortada Mehyar <mortada@users.noreply.github.com>   \n",
       "1  Patrick Hoefler <61934744+phofl@users.noreply....   \n",
       "2  attack68 <24256554+attack68@users.noreply.gith...   \n",
       "3  attack68 <24256554+attack68@users.noreply.gith...   \n",
       "4          Simon Hawkins <simonjayhawkins@gmail.com>   \n",
       "5              jbrockmendel <jbrockmendel@gmail.com>   \n",
       "6              jbrockmendel <jbrockmendel@gmail.com>   \n",
       "7              jbrockmendel <jbrockmendel@gmail.com>   \n",
       "8  Patrick Hoefler <61934744+phofl@users.noreply....   \n",
       "9  Patrick Hoefler <61934744+phofl@users.noreply....   \n",
       "\n",
       "                             date  \\\n",
       "0  Wed Apr 21 12:27:07 2021 +0800   \n",
       "1  Wed Apr 21 01:23:07 2021 +0200   \n",
       "2  Wed Apr 21 01:21:22 2021 +0200   \n",
       "3  Wed Apr 21 01:01:03 2021 +0200   \n",
       "4  Tue Apr 20 23:58:18 2021 +0100   \n",
       "5  Tue Apr 20 15:56:41 2021 -0700   \n",
       "6  Tue Apr 20 15:55:13 2021 -0700   \n",
       "7  Tue Apr 20 15:54:47 2021 -0700   \n",
       "8  Wed Apr 21 00:51:38 2021 +0200   \n",
       "9  Wed Apr 21 00:50:55 2021 +0200   \n",
       "\n",
       "                                             message               repo  \n",
       "0  DOC: add example for plotting asymmetrical err...  pandas-dev/pandas  \n",
       "1           Add keyword sort to pivot_table (#40954)  pandas-dev/pandas  \n",
       "2   ENH: `Styler.highlight_quantile` method (#40926)  pandas-dev/pandas  \n",
       "3  ENH: add `decimal` and `thousands` args to `St...  pandas-dev/pandas  \n",
       "4  [ArrowStringArray] Use utf8_upper and utf8_low...  pandas-dev/pandas  \n",
       "5  BUG: groupby.rank with MaskedArray incorrect c...  pandas-dev/pandas  \n",
       "6     DOC: more accurate wording in roadmap (#41057)  pandas-dev/pandas  \n",
       "7  REF: move only-used-once mixins to resample (#...  pandas-dev/pandas  \n",
       "8   TST: Add test for union with duplicates (#40967)  pandas-dev/pandas  \n",
       "9  Clarify docs for MultiIndex drops and levels (...  pandas-dev/pandas  "
      ]
     },
     "execution_count": 7,
     "metadata": {},
     "output_type": "execute_result"
    }
   ],
   "source": [
    "new_data"
   ]
  },
  {
   "cell_type": "code",
   "execution_count": 8,
   "id": "8adbdca0",
   "metadata": {},
   "outputs": [],
   "source": [
    "# Performing sentiment analysis on each cell for the sample df, since the entire database is more than 4 million records. \n",
    "sentiment_scores = []\n",
    "for index, row in new_data.iterrows():\n",
    "    text = str(row[text_column])\n",
    "    sentiment = sid.polarity_scores(text)\n",
    "    sentiment_scores.append(sentiment)\n",
    "\n",
    "# Adding sentiment scores to the dataframe\n",
    "new_data.loc[:, 'sentiment_scores'] = sentiment_scores.copy()\n"
   ]
  },
  {
   "cell_type": "code",
   "execution_count": 9,
   "id": "170e7630",
   "metadata": {},
   "outputs": [
    {
     "data": {
      "text/html": [
       "<div>\n",
       "<style scoped>\n",
       "    .dataframe tbody tr th:only-of-type {\n",
       "        vertical-align: middle;\n",
       "    }\n",
       "\n",
       "    .dataframe tbody tr th {\n",
       "        vertical-align: top;\n",
       "    }\n",
       "\n",
       "    .dataframe thead th {\n",
       "        text-align: right;\n",
       "    }\n",
       "</style>\n",
       "<table border=\"1\" class=\"dataframe\">\n",
       "  <thead>\n",
       "    <tr style=\"text-align: right;\">\n",
       "      <th></th>\n",
       "      <th>commit</th>\n",
       "      <th>author</th>\n",
       "      <th>date</th>\n",
       "      <th>message</th>\n",
       "      <th>repo</th>\n",
       "      <th>sentiment_scores</th>\n",
       "    </tr>\n",
       "  </thead>\n",
       "  <tbody>\n",
       "    <tr>\n",
       "      <th>0</th>\n",
       "      <td>692bba578efb5e305c9b116568e5aad75b3fdbb3</td>\n",
       "      <td>Mortada Mehyar &lt;mortada@users.noreply.github.com&gt;</td>\n",
       "      <td>Wed Apr 21 12:27:07 2021 +0800</td>\n",
       "      <td>DOC: add example for plotting asymmetrical err...</td>\n",
       "      <td>pandas-dev/pandas</td>\n",
       "      <td>{'neg': 0.252, 'neu': 0.748, 'pos': 0.0, 'comp...</td>\n",
       "    </tr>\n",
       "    <tr>\n",
       "      <th>1</th>\n",
       "      <td>855696cde0ef5d80a7d4bd3f6a2940c5a2fecb3f</td>\n",
       "      <td>Patrick Hoefler &lt;61934744+phofl@users.noreply....</td>\n",
       "      <td>Wed Apr 21 01:23:07 2021 +0200</td>\n",
       "      <td>Add keyword sort to pivot_table (#40954)</td>\n",
       "      <td>pandas-dev/pandas</td>\n",
       "      <td>{'neg': 0.0, 'neu': 1.0, 'pos': 0.0, 'compound...</td>\n",
       "    </tr>\n",
       "    <tr>\n",
       "      <th>2</th>\n",
       "      <td>eaaefd140289a5103679ac6748567f724c7be56a</td>\n",
       "      <td>attack68 &lt;24256554+attack68@users.noreply.gith...</td>\n",
       "      <td>Wed Apr 21 01:21:22 2021 +0200</td>\n",
       "      <td>ENH: `Styler.highlight_quantile` method (#40926)</td>\n",
       "      <td>pandas-dev/pandas</td>\n",
       "      <td>{'neg': 0.0, 'neu': 1.0, 'pos': 0.0, 'compound...</td>\n",
       "    </tr>\n",
       "    <tr>\n",
       "      <th>3</th>\n",
       "      <td>aab87997058f3c74ba70286620ebe792ee4ef169</td>\n",
       "      <td>attack68 &lt;24256554+attack68@users.noreply.gith...</td>\n",
       "      <td>Wed Apr 21 01:01:03 2021 +0200</td>\n",
       "      <td>ENH: add `decimal` and `thousands` args to `St...</td>\n",
       "      <td>pandas-dev/pandas</td>\n",
       "      <td>{'neg': 0.0, 'neu': 1.0, 'pos': 0.0, 'compound...</td>\n",
       "    </tr>\n",
       "    <tr>\n",
       "      <th>4</th>\n",
       "      <td>9c43cd7675d96174051e470de1f45e2bf7c9ebdc</td>\n",
       "      <td>Simon Hawkins &lt;simonjayhawkins@gmail.com&gt;</td>\n",
       "      <td>Tue Apr 20 23:58:18 2021 +0100</td>\n",
       "      <td>[ArrowStringArray] Use utf8_upper and utf8_low...</td>\n",
       "      <td>pandas-dev/pandas</td>\n",
       "      <td>{'neg': 0.0, 'neu': 1.0, 'pos': 0.0, 'compound...</td>\n",
       "    </tr>\n",
       "    <tr>\n",
       "      <th>5</th>\n",
       "      <td>9e091427a26aa313bbcb8c46c5b434ce47775fe0</td>\n",
       "      <td>jbrockmendel &lt;jbrockmendel@gmail.com&gt;</td>\n",
       "      <td>Tue Apr 20 15:56:41 2021 -0700</td>\n",
       "      <td>BUG: groupby.rank with MaskedArray incorrect c...</td>\n",
       "      <td>pandas-dev/pandas</td>\n",
       "      <td>{'neg': 0.0, 'neu': 1.0, 'pos': 0.0, 'compound...</td>\n",
       "    </tr>\n",
       "    <tr>\n",
       "      <th>6</th>\n",
       "      <td>1b95e1bdb566242b3ad1e19df7e9a5ff7dfc5f14</td>\n",
       "      <td>jbrockmendel &lt;jbrockmendel@gmail.com&gt;</td>\n",
       "      <td>Tue Apr 20 15:55:13 2021 -0700</td>\n",
       "      <td>DOC: more accurate wording in roadmap (#41057)</td>\n",
       "      <td>pandas-dev/pandas</td>\n",
       "      <td>{'neg': 0.0, 'neu': 1.0, 'pos': 0.0, 'compound...</td>\n",
       "    </tr>\n",
       "    <tr>\n",
       "      <th>7</th>\n",
       "      <td>9531e0915338528bf0852abfdc6d8a72b8de9396</td>\n",
       "      <td>jbrockmendel &lt;jbrockmendel@gmail.com&gt;</td>\n",
       "      <td>Tue Apr 20 15:54:47 2021 -0700</td>\n",
       "      <td>REF: move only-used-once mixins to resample (#...</td>\n",
       "      <td>pandas-dev/pandas</td>\n",
       "      <td>{'neg': 0.0, 'neu': 1.0, 'pos': 0.0, 'compound...</td>\n",
       "    </tr>\n",
       "    <tr>\n",
       "      <th>8</th>\n",
       "      <td>8b1430d4a885b235a66d600133a050d537608137</td>\n",
       "      <td>Patrick Hoefler &lt;61934744+phofl@users.noreply....</td>\n",
       "      <td>Wed Apr 21 00:51:38 2021 +0200</td>\n",
       "      <td>TST: Add test for union with duplicates (#40967)</td>\n",
       "      <td>pandas-dev/pandas</td>\n",
       "      <td>{'neg': 0.0, 'neu': 1.0, 'pos': 0.0, 'compound...</td>\n",
       "    </tr>\n",
       "    <tr>\n",
       "      <th>9</th>\n",
       "      <td>95d2667dd88ba71593bcaa7dd2ad51f7e290325d</td>\n",
       "      <td>Patrick Hoefler &lt;61934744+phofl@users.noreply....</td>\n",
       "      <td>Wed Apr 21 00:50:55 2021 +0200</td>\n",
       "      <td>Clarify docs for MultiIndex drops and levels (...</td>\n",
       "      <td>pandas-dev/pandas</td>\n",
       "      <td>{'neg': 0.0, 'neu': 1.0, 'pos': 0.0, 'compound...</td>\n",
       "    </tr>\n",
       "  </tbody>\n",
       "</table>\n",
       "</div>"
      ],
      "text/plain": [
       "                                     commit  \\\n",
       "0  692bba578efb5e305c9b116568e5aad75b3fdbb3   \n",
       "1  855696cde0ef5d80a7d4bd3f6a2940c5a2fecb3f   \n",
       "2  eaaefd140289a5103679ac6748567f724c7be56a   \n",
       "3  aab87997058f3c74ba70286620ebe792ee4ef169   \n",
       "4  9c43cd7675d96174051e470de1f45e2bf7c9ebdc   \n",
       "5  9e091427a26aa313bbcb8c46c5b434ce47775fe0   \n",
       "6  1b95e1bdb566242b3ad1e19df7e9a5ff7dfc5f14   \n",
       "7  9531e0915338528bf0852abfdc6d8a72b8de9396   \n",
       "8  8b1430d4a885b235a66d600133a050d537608137   \n",
       "9  95d2667dd88ba71593bcaa7dd2ad51f7e290325d   \n",
       "\n",
       "                                              author  \\\n",
       "0  Mortada Mehyar <mortada@users.noreply.github.com>   \n",
       "1  Patrick Hoefler <61934744+phofl@users.noreply....   \n",
       "2  attack68 <24256554+attack68@users.noreply.gith...   \n",
       "3  attack68 <24256554+attack68@users.noreply.gith...   \n",
       "4          Simon Hawkins <simonjayhawkins@gmail.com>   \n",
       "5              jbrockmendel <jbrockmendel@gmail.com>   \n",
       "6              jbrockmendel <jbrockmendel@gmail.com>   \n",
       "7              jbrockmendel <jbrockmendel@gmail.com>   \n",
       "8  Patrick Hoefler <61934744+phofl@users.noreply....   \n",
       "9  Patrick Hoefler <61934744+phofl@users.noreply....   \n",
       "\n",
       "                             date  \\\n",
       "0  Wed Apr 21 12:27:07 2021 +0800   \n",
       "1  Wed Apr 21 01:23:07 2021 +0200   \n",
       "2  Wed Apr 21 01:21:22 2021 +0200   \n",
       "3  Wed Apr 21 01:01:03 2021 +0200   \n",
       "4  Tue Apr 20 23:58:18 2021 +0100   \n",
       "5  Tue Apr 20 15:56:41 2021 -0700   \n",
       "6  Tue Apr 20 15:55:13 2021 -0700   \n",
       "7  Tue Apr 20 15:54:47 2021 -0700   \n",
       "8  Wed Apr 21 00:51:38 2021 +0200   \n",
       "9  Wed Apr 21 00:50:55 2021 +0200   \n",
       "\n",
       "                                             message               repo  \\\n",
       "0  DOC: add example for plotting asymmetrical err...  pandas-dev/pandas   \n",
       "1           Add keyword sort to pivot_table (#40954)  pandas-dev/pandas   \n",
       "2   ENH: `Styler.highlight_quantile` method (#40926)  pandas-dev/pandas   \n",
       "3  ENH: add `decimal` and `thousands` args to `St...  pandas-dev/pandas   \n",
       "4  [ArrowStringArray] Use utf8_upper and utf8_low...  pandas-dev/pandas   \n",
       "5  BUG: groupby.rank with MaskedArray incorrect c...  pandas-dev/pandas   \n",
       "6     DOC: more accurate wording in roadmap (#41057)  pandas-dev/pandas   \n",
       "7  REF: move only-used-once mixins to resample (#...  pandas-dev/pandas   \n",
       "8   TST: Add test for union with duplicates (#40967)  pandas-dev/pandas   \n",
       "9  Clarify docs for MultiIndex drops and levels (...  pandas-dev/pandas   \n",
       "\n",
       "                                    sentiment_scores  \n",
       "0  {'neg': 0.252, 'neu': 0.748, 'pos': 0.0, 'comp...  \n",
       "1  {'neg': 0.0, 'neu': 1.0, 'pos': 0.0, 'compound...  \n",
       "2  {'neg': 0.0, 'neu': 1.0, 'pos': 0.0, 'compound...  \n",
       "3  {'neg': 0.0, 'neu': 1.0, 'pos': 0.0, 'compound...  \n",
       "4  {'neg': 0.0, 'neu': 1.0, 'pos': 0.0, 'compound...  \n",
       "5  {'neg': 0.0, 'neu': 1.0, 'pos': 0.0, 'compound...  \n",
       "6  {'neg': 0.0, 'neu': 1.0, 'pos': 0.0, 'compound...  \n",
       "7  {'neg': 0.0, 'neu': 1.0, 'pos': 0.0, 'compound...  \n",
       "8  {'neg': 0.0, 'neu': 1.0, 'pos': 0.0, 'compound...  \n",
       "9  {'neg': 0.0, 'neu': 1.0, 'pos': 0.0, 'compound...  "
      ]
     },
     "execution_count": 9,
     "metadata": {},
     "output_type": "execute_result"
    }
   ],
   "source": [
    "new_data"
   ]
  },
  {
   "cell_type": "code",
   "execution_count": 10,
   "id": "8c62b7ce",
   "metadata": {},
   "outputs": [
    {
     "data": {
      "text/plain": [
       "commit                       855696cde0ef5d80a7d4bd3f6a2940c5a2fecb3f\n",
       "author              Patrick Hoefler <61934744+phofl@users.noreply....\n",
       "date                                   Wed Apr 21 01:23:07 2021 +0200\n",
       "message                      Add keyword sort to pivot_table (#40954)\n",
       "repo                                                pandas-dev/pandas\n",
       "sentiment_scores    {'neg': 0.0, 'neu': 1.0, 'pos': 0.0, 'compound...\n",
       "Name: 1, dtype: object"
      ]
     },
     "execution_count": 10,
     "metadata": {},
     "output_type": "execute_result"
    }
   ],
   "source": [
    "#checking the records\n",
    "new_data.iloc[1]"
   ]
  },
  {
   "cell_type": "code",
   "execution_count": 11,
   "id": "d9a5f6d1",
   "metadata": {},
   "outputs": [
    {
     "data": {
      "text/plain": [
       "{'neg': 0.252, 'neu': 0.748, 'pos': 0.0, 'compound': -0.4019}"
      ]
     },
     "execution_count": 11,
     "metadata": {},
     "output_type": "execute_result"
    }
   ],
   "source": [
    "#checking the values of sentiment scores\n",
    "new_data.iloc[0,5]"
   ]
  },
  {
   "cell_type": "code",
   "execution_count": null,
   "id": "56fe707f",
   "metadata": {},
   "outputs": [],
   "source": [
    "# Performing sentiment analysis on each cell of the entire dataset\n",
    "sentiment_scores = []\n",
    "for index, row in data.iterrows():\n",
    "    text = str(row[text_column])\n",
    "    sentiment = sid.polarity_scores(text)\n",
    "    sentiment_scores.append(sentiment)\n",
    "\n",
    "# Adding sentiment scores to the dataframe\n",
    "data.loc[:, 'sentiment_scores'] = sentiment_scores\n"
   ]
  },
  {
   "cell_type": "markdown",
   "id": "7fcdf41d",
   "metadata": {},
   "source": [
    "The SentimentIntensityAnalyzer from NLTK's VADER (Valence Aware Dictionary and sEntiment Reasoner) module is a lexicon and rule-based sentiment analysis tool designed to analyze text sentiment based on predefined rules and a sentiment lexicon. \n",
    "VADER uses a lexicon that contains words along with their sentiment scores (positive, negative, neutral).\n",
    "Each word in the lexicon is assigned a polarity score (positive or negative) and an intensity score.\n",
    "It utilizes rules to handle the nuances of sentiment analysis, considering factors like capitalization, punctuation, negations, and emoticons.\n",
    "Rules help in identifying contextual sentiment variations and intensities within a sentence.\n",
    "The polarity_scores() method in VADER generates sentiment scores for input text.\n",
    "It provides four scores: 'neg' (negative), 'neu' (neutral), 'pos' (positive), and 'compound' (overall sentiment)."
   ]
  },
  {
   "cell_type": "code",
   "execution_count": null,
   "id": "e475e23e",
   "metadata": {},
   "outputs": [],
   "source": [
    "data.head()"
   ]
  },
  {
   "cell_type": "code",
   "execution_count": null,
   "id": "691f497a",
   "metadata": {},
   "outputs": [],
   "source": [
    "data.tail()"
   ]
  },
  {
   "cell_type": "code",
   "execution_count": null,
   "id": "9d9c4a29",
   "metadata": {},
   "outputs": [],
   "source": [
    "# Calculating the number of commits made by each author\n",
    "# Grouping the data by 'author' and counting the occurrences of commits ('commit'),\n",
    "# then resetting the index to obtain a DataFrame showing commit counts per author\n",
    "commit_count = data.groupby('author')['commit'].count().reset_index()\n",
    "\n",
    "# Renaming the column 'commit' to 'commit_count' for clarity\n",
    "commit_count.rename(columns={'commit': 'commit_count'}, inplace=True)"
   ]
  },
  {
   "cell_type": "code",
   "execution_count": null,
   "id": "ffbdf6b9",
   "metadata": {},
   "outputs": [],
   "source": [
    "commit_count.tail()"
   ]
  },
  {
   "cell_type": "code",
   "execution_count": null,
   "id": "a356f27d",
   "metadata": {},
   "outputs": [],
   "source": [
    "commit_count"
   ]
  },
  {
   "cell_type": "code",
   "execution_count": null,
   "id": "9021bc54",
   "metadata": {},
   "outputs": [],
   "source": [
    "# Extracting sentiment scores into separate columns since we cannot perform any numerical computation on dict object\n",
    "data[['neg', 'neu', 'pos', 'compound']] = data['sentiment_scores'].apply(lambda x: pd.Series(x))\n",
    "\n",
    "# Converting the new columns to numeric types\n",
    "data[['neg', 'neu', 'pos', 'compound']] = data[['neg', 'neu', 'pos', 'compound']].apply(pd.to_numeric)\n",
    "#sentiment_score = compound"
   ]
  },
  {
   "cell_type": "code",
   "execution_count": null,
   "id": "1caf9baf",
   "metadata": {},
   "outputs": [],
   "source": [
    "data.head()"
   ]
  },
  {
   "cell_type": "code",
   "execution_count": null,
   "id": "b4d9f814",
   "metadata": {},
   "outputs": [],
   "source": [
    "data.tail()"
   ]
  },
  {
   "cell_type": "code",
   "execution_count": null,
   "id": "6ff14e7a",
   "metadata": {},
   "outputs": [],
   "source": [
    "#checking a random data\n",
    "data.iloc[312133]"
   ]
  },
  {
   "cell_type": "code",
   "execution_count": null,
   "id": "59db5d24",
   "metadata": {},
   "outputs": [],
   "source": [
    "# Grouping the data by 'author'\n",
    "grouped_by_author = data.groupby('author')\n",
    "\n",
    "# Calculating mean sentiment scores for each author\n",
    "mean_sentiments_by_author = grouped_by_author[['pos', 'neg', 'neu', 'compound']].mean()\n"
   ]
  },
  {
   "cell_type": "markdown",
   "id": "cf9a3f12",
   "metadata": {},
   "source": [
    "If each author has multiple commits/messages with different sentiments, merging based solely on the 'author' column might aggregate the commit count per author but will retain multiple sentiment scores per author (associated with each commit).\n",
    "\n",
    "In that case, when merging the data, the sentiment scores for each commit by the author will be preserved. This means that the resulting merged_data DataFrame will have multiple rows for each author, with each row representing a specific commit and its associated sentiment score.\n",
    "\n",
    "This structure might be appropriate if we want to analyze the sentiment of each individual commit in relation to the number of contributions made by each author.\n",
    "\n",
    "If our aim to summarize sentiment per author and study the overall sentiment tendency of authors based on their cumulative contributions, we might need to aggregate sentiment scores, for example, by taking the mean sentiment score for each author."
   ]
  },
  {
   "cell_type": "code",
   "execution_count": null,
   "id": "fc51b3eb",
   "metadata": {},
   "outputs": [],
   "source": [
    "mean_sentiments_by_author.head()"
   ]
  },
  {
   "cell_type": "markdown",
   "id": "04a8f1b7",
   "metadata": {},
   "source": [
    "\"How do different authors' mean sentiment scores compare across positive, negative, neutral, and compound sentiments?\""
   ]
  },
  {
   "cell_type": "markdown",
   "id": "8066a032",
   "metadata": {},
   "source": [
    "A grouped bar chart or a stacked bar chart could be effective in visually comparing mean sentiment scores across authors for each sentiment category (positive, negative, neutral, compound)."
   ]
  },
  {
   "cell_type": "code",
   "execution_count": null,
   "id": "c47aab79",
   "metadata": {
    "scrolled": false
   },
   "outputs": [],
   "source": [
    "import matplotlib.pyplot as plt\n",
    "\n",
    "# Plotting grouped bar chart for mean sentiment scores by author\n",
    "mean_sentiments_by_author.plot(kind='bar', figsize=(12, 8))\n",
    "plt.xlabel('Authors')\n",
    "plt.ylabel('Mean Sentiment Score')\n",
    "plt.title('Mean Sentiment Scores by Author')\n",
    "plt.legend(title='Sentiment Type')\n",
    "plt.show()\n"
   ]
  },
  {
   "cell_type": "code",
   "execution_count": null,
   "id": "0a5ec437",
   "metadata": {},
   "outputs": [],
   "source": [
    "import matplotlib.pyplot as plt\n",
    "\n",
    "# Limiting number of authors for visualization\n",
    "top_authors = mean_sentiments_by_author.head(10)  # Adjust the number of top authors to display\n",
    "\n",
    "# Plotting grouped bar chart for mean sentiment scores by top authors\n",
    "top_authors.plot(kind='bar', figsize=(12, 8))\n",
    "plt.xlabel('Authors')\n",
    "plt.ylabel('Mean Sentiment Score')\n",
    "plt.title('Mean Sentiment Scores by Top Authors')\n",
    "plt.legend(title='Sentiment Type')\n",
    "plt.show()\n"
   ]
  },
  {
   "cell_type": "code",
   "execution_count": null,
   "id": "dab39210",
   "metadata": {},
   "outputs": [],
   "source": [
    "#comparing the 'neg', 'pos', 'neu', and 'compound' sentiment scores for the top 10 authors. \n",
    "#Each author will have grouped bars representing their scores in these sentiment categories.\n",
    "import matplotlib.pyplot as plt\n",
    "\n",
    "# Step 1: Finding the top 10 authors with the highest number of commit messages\n",
    "top_authors = data['author'].value_counts().nlargest(10).index.tolist()\n",
    "\n",
    "# Step 2: Filtering sentiment data for the top 10 authors\n",
    "top_authors_sentiment = data[data['author'].isin(top_authors)]\n",
    "\n",
    "# Step 3: Prepare data for grouped bar chart\n",
    "plt.figure(figsize=(12, 8))\n",
    "\n",
    "bar_width = 0.2\n",
    "index = top_authors_sentiment.index\n",
    "\n",
    "for i, sentiment_type in enumerate(['neg', 'pos', 'neu', 'compound']):\n",
    "    plt.bar(index + (i * bar_width), top_authors_sentiment[sentiment_type], bar_width, label=sentiment_type)\n",
    "\n",
    "plt.xlabel('Authors')\n",
    "plt.ylabel('Sentiment Scores')\n",
    "plt.title('Sentiment Analysis for Top 10 Authors')\n",
    "plt.xticks(index + bar_width, top_authors_sentiment['author'])\n",
    "plt.legend()\n",
    "plt.tight_layout()\n",
    "plt.show()"
   ]
  },
  {
   "cell_type": "code",
   "execution_count": null,
   "id": "c977fbb6",
   "metadata": {},
   "outputs": [],
   "source": [
    "#changing the column type of date to datetobject\n",
    "data['date'] = pd.to_datetime(data['date'],utc=True)"
   ]
  },
  {
   "cell_type": "code",
   "execution_count": null,
   "id": "7ec6733b",
   "metadata": {},
   "outputs": [],
   "source": [
    "data['date']"
   ]
  },
  {
   "cell_type": "code",
   "execution_count": null,
   "id": "346b6e06",
   "metadata": {},
   "outputs": [],
   "source": [
    "sentiment_data=data\n",
    "# Grouping by date and calculating average sentiment scores\n",
    "daily_sentiment = sentiment_data.groupby('date')[['pos', 'neg', 'neu','compound']].mean()"
   ]
  },
  {
   "cell_type": "code",
   "execution_count": null,
   "id": "1fb980b4",
   "metadata": {},
   "outputs": [],
   "source": [
    "daily_sentiment"
   ]
  },
  {
   "cell_type": "markdown",
   "id": "dd211702",
   "metadata": {},
   "source": [
    "A plot displaying sentiment trends over time based on the daily average sentiment scores from the 'daily_sentiment' DataFrame. This plot demonstrates how the sentiment scores (positive, negative, neutral, compound) have varied over time."
   ]
  },
  {
   "cell_type": "code",
   "execution_count": null,
   "id": "d5db01ed",
   "metadata": {},
   "outputs": [],
   "source": [
    "import matplotlib.pyplot as plt\n",
    "\n",
    "plt.figure(figsize=(10, 6))\n",
    "\n",
    "# Plotting sentiment trends over time\n",
    "for col in daily_sentiment.columns:\n",
    "    plt.plot(daily_sentiment.index, daily_sentiment[col], label=col.upper())\n",
    "\n",
    "plt.xlabel('Date')\n",
    "plt.ylabel('Sentiment Score')\n",
    "plt.title('Sentiment Trends Over Time')\n",
    "plt.legend()\n",
    "plt.show()\n"
   ]
  },
  {
   "cell_type": "code",
   "execution_count": null,
   "id": "10107beb",
   "metadata": {},
   "outputs": [],
   "source": [
    "# Grouping by date and calculating daily commit counts\n",
    "commit_frequency = data.groupby(data['date'].dt.date).size()\n"
   ]
  },
  {
   "cell_type": "markdown",
   "id": "b2a740d1",
   "metadata": {},
   "source": [
    "This plot shows the relationship between commit frequency and sentiment changes over time. By overlaying commit frequency with positive, negative, and neutral sentiment scores, we can observe potential correlations or patterns between these factors."
   ]
  },
  {
   "cell_type": "code",
   "execution_count": null,
   "id": "e0ccf681",
   "metadata": {},
   "outputs": [],
   "source": [
    "import matplotlib.pyplot as plt\n",
    "\n",
    "# Plotting commit frequency and sentiment changes\n",
    "plt.figure(figsize=(10, 6))\n",
    "\n",
    "# Plotting commit frequency\n",
    "plt.plot(commit_frequency.index, commit_frequency.values, label='Commit Frequency', color='blue')\n",
    "\n",
    "# Plotting sentiment changes (using 'daily_sentiment' DataFrame)\n",
    "plt.plot(daily_sentiment.index, daily_sentiment['pos'], label='Positive Sentiment', color='green')\n",
    "plt.plot(daily_sentiment.index, daily_sentiment['neg'], label='Negative Sentiment', color='red')\n",
    "plt.plot(daily_sentiment.index, daily_sentiment['neu'], label='Neutral Sentiment', color='orange')\n",
    "plt.plot(daily_sentiment.index, daily_sentiment['neu'], label='Compound Sentiment', color='black')\n",
    "\n",
    "plt.xlabel('Date')\n",
    "plt.ylabel('Count/Sentiment Score')\n",
    "plt.title('Commit Frequency vs. Sentiment Changes Over Time')\n",
    "plt.legend()\n",
    "plt.show()\n"
   ]
  },
  {
   "cell_type": "markdown",
   "id": "c02de169",
   "metadata": {},
   "source": [
    "The research question being addressed here focus on identifying authors whose sentiment scores have the least variability across positive, negative, and neutral sentiments. This analysis aims to pinpoint authors whose sentiments are relatively consistent or stable across their contributions or messages.\n",
    "\n",
    "By identifying authors with low overall variability, the intention is to explore:\n",
    "\n",
    "Whether certain authors consistently maintain a specific sentiment tone in their contributions.\n",
    "How consistent or stable the sentiment expressions are among various authors.\n",
    "Whether authors with low variability demonstrate a consistent tone or style in their contributions, which could be valuable in certain contexts like content creation, customer service, or opinion sharing.\n",
    "Understanding the consistency or variability in sentiment expression among authors can shed light on their writing style, attitude, or consistency in expressing opinions, which could be crucial in commit environment. "
   ]
  },
  {
   "cell_type": "code",
   "execution_count": null,
   "id": "9ba80db2",
   "metadata": {},
   "outputs": [],
   "source": [
    "# Calculating sentiment score standard deviation \n",
    "sentiment_std_dev = data.groupby('author')[['pos', 'neg', 'neu']].std()"
   ]
  },
  {
   "cell_type": "code",
   "execution_count": null,
   "id": "688458bc",
   "metadata": {},
   "outputs": [],
   "source": [
    "sentiment_std_dev['overall_variability'] = sentiment_std_dev.mean(axis=1)"
   ]
  },
  {
   "cell_type": "code",
   "execution_count": null,
   "id": "7d562158",
   "metadata": {},
   "outputs": [],
   "source": [
    "# Authors with low variability (e.g., top 5)\n",
    "low_variability_authors = sentiment_std_dev.nsmallest(5, 'overall_variability')\n",
    "print(\"Authors with low overall variability:\\n\", low_variability_authors)\n"
   ]
  },
  {
   "cell_type": "code",
   "execution_count": null,
   "id": "070b506a",
   "metadata": {},
   "outputs": [],
   "source": [
    "low_variability_authors"
   ]
  },
  {
   "cell_type": "code",
   "execution_count": null,
   "id": "069558f2",
   "metadata": {},
   "outputs": [],
   "source": [
    "# Authors with high variability (e.g., top 5)\n",
    "high_variability_authors = sentiment_std_dev.nlargest(5, 'overall_variability')\n",
    "print(\"Authors with high overall variability:\\n\", high_variability_authors)\n"
   ]
  },
  {
   "cell_type": "code",
   "execution_count": null,
   "id": "0cf7156d",
   "metadata": {},
   "outputs": [],
   "source": [
    "high_variability_authors"
   ]
  },
  {
   "cell_type": "code",
   "execution_count": null,
   "id": "efab8bdd",
   "metadata": {},
   "outputs": [],
   "source": [
    "import matplotlib.pyplot as plt\n",
    "\n",
    "# Plotting a boxplot of overall variability\n",
    "plt.figure(figsize=(8, 6))  # Adjust the figure size if needed\n",
    "\n",
    "plt.boxplot(sentiment_std_dev['overall_variability'])\n",
    "plt.xlabel('Overall Variability')\n",
    "plt.ylabel('Frequency')\n",
    "plt.title('Distribution of Overall Variability Among Authors')\n",
    "plt.show()\n",
    "\n"
   ]
  },
  {
   "cell_type": "code",
   "execution_count": null,
   "id": "bb393465",
   "metadata": {},
   "outputs": [],
   "source": [
    "# Analyzing messages of authors with low variability\n",
    "for author in low_variability_authors.index:\n",
    "    author_sentiments = sentiment_data[sentiment_data['author'] == author][['pos', 'neg', 'neu']]\n",
    "    # Analyzing or visualizing sentiment patterns for the authors\n",
    "    # Example: Calculate average sentiment scores, plot sentiment changes over time, etc.\n",
    "    # (based on the available sentiment data)\n"
   ]
  },
  {
   "cell_type": "code",
   "execution_count": null,
   "id": "5e80120f",
   "metadata": {},
   "outputs": [],
   "source": [
    "# Analyzing messages of authors with high variability\n",
    "for author in high_variability_authors.index:\n",
    "    author_sentiments = sentiment_data[sentiment_data['author'] == author][['pos', 'neg', 'neu']]\n",
    "    # Analyzingntiment patterns for these authors\n",
    "    # Example: Calculatingerage sentiment scores, plottingtiment changes over time, etc.\n",
    "    # (based on the available sentiment data)\n"
   ]
  },
  {
   "cell_type": "code",
   "execution_count": null,
   "id": "e43feb27",
   "metadata": {},
   "outputs": [],
   "source": [
    "\n",
    "# Calculating author-wise contributions (commit count)\n",
    "author_contributions = data.groupby('author')['commit'].count().reset_index()\n",
    "author_contributions.rename(columns={'commit': 'commit_count'}, inplace=True)\n",
    "contributions=author_contributions"
   ]
  },
  {
   "cell_type": "code",
   "execution_count": null,
   "id": "26ec4303",
   "metadata": {},
   "outputs": [],
   "source": [
    "\n",
    "# Merge sentiment_std_dev with contributions\n",
    "merged_data = pd.merge(sentiment_std_dev, contributions, on='author', how='inner')\n",
    "\n",
    "# Calculate correlation between overall variability and number of contributions\n",
    "correlation = merged_data[['overall_variability', 'commit_count']].corr()\n",
    "print(\"Correlation between Overall Variability and Commit Count:\\n\", correlation)\n"
   ]
  }
 ],
 "metadata": {
  "kernelspec": {
   "display_name": "Python 3 (ipykernel)",
   "language": "python",
   "name": "python3"
  },
  "language_info": {
   "codemirror_mode": {
    "name": "ipython",
    "version": 3
   },
   "file_extension": ".py",
   "mimetype": "text/x-python",
   "name": "python",
   "nbconvert_exporter": "python",
   "pygments_lexer": "ipython3",
   "version": "3.11.3"
  }
 },
 "nbformat": 4,
 "nbformat_minor": 5
}
