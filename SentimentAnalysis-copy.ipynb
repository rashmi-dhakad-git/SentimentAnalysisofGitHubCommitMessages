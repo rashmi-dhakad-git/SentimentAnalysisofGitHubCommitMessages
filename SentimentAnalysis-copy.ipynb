{
  "cells": [
    {
      "cell_type": "code",
      "source": [
        "# Importing necessary libraries\n",
        "import pandas as pd\n",
        "import matplotlib.pyplot as plt\n",
        "\n",
        "from azureml.core import Workspace, Dataset\n",
        "\n",
        "# Loading the Azure Machine Learning Workspace\n",
        "workspace = Workspace.from_config()\n",
        "\n",
        "# Retrieving the dataset by its name \n",
        "dataset = Dataset.get_by_name(workspace, name='SentimentAnalysis')\n",
        "\n",
        "# Loading the dataset into a Pandas DataFrame\n",
        "df = dataset.to_pandas_dataframe()\n",
        "\n",
        "# Now 'df' contains the sentiment analysis dataset as a Pandas DataFrame"
      ],
      "outputs": [],
      "execution_count": null,
      "metadata": {
        "gather": {
          "logged": 1705238125587
        }
      }
    },
    {
      "cell_type": "code",
      "source": [
        "df.head()"
      ],
      "outputs": [],
      "execution_count": null,
      "metadata": {
        "jupyter": {
          "source_hidden": false,
          "outputs_hidden": false
        },
        "nteract": {
          "transient": {
            "deleting": false
          }
        },
        "gather": {
          "logged": 1705238125810
        }
      }
    },
    {
      "cell_type": "code",
      "source": [
        "df.describe()"
      ],
      "outputs": [],
      "execution_count": null,
      "metadata": {
        "jupyter": {
          "source_hidden": false,
          "outputs_hidden": false
        },
        "nteract": {
          "transient": {
            "deleting": false
          }
        },
        "gather": {
          "logged": 1705238181648
        }
      }
    },
    {
      "cell_type": "code",
      "source": [
        "df['date'] = pd.to_datetime(df['date'])"
      ],
      "outputs": [],
      "execution_count": null,
      "metadata": {
        "jupyter": {
          "source_hidden": false,
          "outputs_hidden": false
        },
        "nteract": {
          "transient": {
            "deleting": false
          }
        },
        "gather": {
          "logged": 1705238300027
        }
      }
    },
    {
      "cell_type": "code",
      "source": [
        "df.tail()"
      ],
      "outputs": [],
      "execution_count": null,
      "metadata": {
        "jupyter": {
          "source_hidden": false,
          "outputs_hidden": false
        },
        "nteract": {
          "transient": {
            "deleting": false
          }
        },
        "gather": {
          "logged": 1705238300239
        }
      }
    },
    {
      "cell_type": "code",
      "source": [
        "df['date'] = pd.to_datetime(df['date'], utc=True)\n"
      ],
      "outputs": [],
      "execution_count": null,
      "metadata": {
        "jupyter": {
          "source_hidden": false,
          "outputs_hidden": false
        },
        "nteract": {
          "transient": {
            "deleting": false
          }
        },
        "gather": {
          "logged": 1705238312280
        }
      }
    },
    {
      "cell_type": "code",
      "source": [
        "df.dtypes"
      ],
      "outputs": [],
      "execution_count": null,
      "metadata": {
        "jupyter": {
          "source_hidden": false,
          "outputs_hidden": false
        },
        "nteract": {
          "transient": {
            "deleting": false
          }
        },
        "gather": {
          "logged": 1705238312484
        }
      }
    },
    {
      "cell_type": "code",
      "source": [
        "df.head()"
      ],
      "outputs": [],
      "execution_count": null,
      "metadata": {
        "jupyter": {
          "source_hidden": false,
          "outputs_hidden": false
        },
        "nteract": {
          "transient": {
            "deleting": false
          }
        },
        "gather": {
          "logged": 1705238312699
        }
      }
    },
    {
      "cell_type": "markdown",
      "source": [
        "### Commit Frequency Over Time:\n",
        "### \n",
        "Analyzing the distribution of commit messages over time. We created a time series visualizations to see how the commit frequency changes over days, weeks, or months. This can help identify busy periods or trends in development activity."
      ],
      "metadata": {
        "nteract": {
          "transient": {
            "deleting": false
          }
        }
      }
    },
    {
      "cell_type": "code",
      "source": [
        "\n",
        "\n",
        "column_name = 'date'\n",
        "\n",
        "# Setting 'date' column as the index for time series plotting\n",
        "df.set_index(column_name, inplace=True)\n",
        "\n",
        "# Resampling the data by day and count the number of commits for each day\n",
        "commit_counts = df.resample('D').size()\n",
        "\n",
        "# Plotting the commit frequency over time\n",
        "plt.figure(figsize=(12, 6))\n",
        "commit_counts.plot(title='Commit Frequency Over Time')\n",
        "plt.xlabel('Date')\n",
        "plt.ylabel('Number of Commits')\n",
        "plt.show()\n"
      ],
      "outputs": [],
      "execution_count": null,
      "metadata": {
        "jupyter": {
          "source_hidden": false,
          "outputs_hidden": false
        },
        "nteract": {
          "transient": {
            "deleting": false
          }
        },
        "gather": {
          "logged": 1705238324955
        }
      }
    },
    {
      "cell_type": "markdown",
      "source": [
        "### Author Contributions:\n",
        "### \n",
        "We want to identify the top contributors by analyzing the number of commits made by each author. "
      ],
      "metadata": {
        "nteract": {
          "transient": {
            "deleting": false
          }
        }
      }
    },
    {
      "cell_type": "code",
      "source": [
        "author_column = 'author'\n",
        "\n",
        "# Step 1: Counting the number of commits for each author\n",
        "author_commit_counts = df[author_column].value_counts()\n",
        "\n",
        "# Step 2: Plotting the top contributors\n",
        "plt.figure(figsize=(12, 6))\n",
        "author_commit_counts.head(10).plot(kind='bar', title='Top 10 Contributors')\n",
        "plt.xlabel('Author')\n",
        "plt.ylabel('Number of Commits')\n",
        "plt.show()\n"
      ],
      "outputs": [],
      "execution_count": null,
      "metadata": {
        "jupyter": {
          "source_hidden": false,
          "outputs_hidden": false
        },
        "nteract": {
          "transient": {
            "deleting": false
          }
        },
        "gather": {
          "logged": 1705238326563
        }
      }
    },
    {
      "cell_type": "code",
      "source": [
        "%pip install textblob\n"
      ],
      "outputs": [],
      "execution_count": null,
      "metadata": {
        "jupyter": {
          "source_hidden": false,
          "outputs_hidden": false
        },
        "nteract": {
          "transient": {
            "deleting": false
          }
        }
      }
    },
    {
      "cell_type": "code",
      "source": [
        "import nltk\n",
        "from nltk.sentiment import SentimentIntensityAnalyzer\n",
        "\n",
        "\n",
        "commit_message_column = 'message'\n",
        "\n",
        "# Downloading VADER lexicon \n",
        "nltk.download('vader_lexicon')\n",
        "\n",
        "# Initializing the VADER sentiment intensity analyzer\n",
        "sid = SentimentIntensityAnalyzer()\n",
        "\n",
        "# Step 1: Analyzing sentiment and creating a new column 'sentiment_score' in the DataFrame\n",
        "df['sentiment_score'] = df[commit_message_column].apply(lambda x: sid.polarity_scores(str(x))['compound'])"
      ],
      "outputs": [],
      "execution_count": null,
      "metadata": {
        "jupyter": {
          "source_hidden": false,
          "outputs_hidden": false
        },
        "nteract": {
          "transient": {
            "deleting": false
          }
        },
        "gather": {
          "logged": 1705224128477
        }
      }
    },
    {
      "cell_type": "code",
      "source": [
        "'''\n",
        "\n",
        "# Step 2: Grouping the data by year-month and calculate the average sentiment score\n",
        "sentiment_over_time = df.groupby(df['date'].dt.to_period(\"M\"))['sentiment_score'].mean()\n",
        "\n",
        "# Step 3: Plotting the sentiment trends over time\n",
        "plt.figure(figsize=(12, 6))\n",
        "sentiment_over_time.plot(title='Average Sentiment Over Time', marker='o', linewidth=2)\n",
        "plt.xlabel('Year-Month')\n",
        "plt.ylabel('Average Sentiment Score')\n",
        "plt.show()\n",
        "'''"
      ],
      "outputs": [],
      "execution_count": null,
      "metadata": {
        "jupyter": {
          "source_hidden": false,
          "outputs_hidden": false
        },
        "nteract": {
          "transient": {
            "deleting": false
          }
        }
      }
    },
    {
      "cell_type": "code",
      "source": [
        "df.head()"
      ],
      "outputs": [],
      "execution_count": null,
      "metadata": {
        "jupyter": {
          "source_hidden": false,
          "outputs_hidden": false
        },
        "nteract": {
          "transient": {
            "deleting": false
          }
        },
        "gather": {
          "logged": 1705237969147
        }
      }
    },
    {
      "cell_type": "markdown",
      "source": [
        "We'll visualize the sentiment distribution, explore how sentiment varies across different authors, and investigate sentiment trends specific to different repositories."
      ],
      "metadata": {
        "nteract": {
          "transient": {
            "deleting": false
          }
        }
      }
    },
    {
      "cell_type": "markdown",
      "source": [
        "This code creates a histogram to show the distribution of sentiment scores in commit messages."
      ],
      "metadata": {
        "nteract": {
          "transient": {
            "deleting": false
          }
        }
      }
    },
    {
      "cell_type": "code",
      "source": [
        "import seaborn as sns\n",
        "\n",
        "\n",
        "sns.set(style=\"whitegrid\")\n",
        "\n",
        "# Visualize Sentiment Distribution\n",
        "plt.figure(figsize=(10, 6))\n",
        "sns.histplot(df['sentiment_score'], bins=30, kde=True, color='skyblue')\n",
        "plt.title('Distribution of Sentiment Scores')\n",
        "plt.xlabel('Sentiment Score')\n",
        "plt.ylabel('Frequency')\n",
        "plt.show()\n"
      ],
      "outputs": [],
      "execution_count": null,
      "metadata": {
        "jupyter": {
          "source_hidden": false,
          "outputs_hidden": false
        },
        "nteract": {
          "transient": {
            "deleting": false
          }
        },
        "gather": {
          "logged": 1705224128603
        }
      }
    },
    {
      "cell_type": "markdown",
      "source": [
        "This code uses a boxplot to visualize the distribution of sentiment scores for each author, providing insights into how sentiment varies across different contributors."
      ],
      "metadata": {
        "nteract": {
          "transient": {
            "deleting": false
          }
        }
      }
    },
    {
      "cell_type": "code",
      "source": [
        "# Author-Specific Sentiment\n",
        "plt.figure(figsize=(14, 8))\n",
        "sns.boxplot(x='author', y='sentiment_score', data=df, palette='viridis')\n",
        "plt.title('Author-Specific Sentiment Analysis')\n",
        "plt.xlabel('Author')\n",
        "plt.ylabel('Sentiment Score')\n",
        "plt.xticks(rotation=45, ha='right')\n",
        "plt.show()\n"
      ],
      "outputs": [],
      "execution_count": null,
      "metadata": {
        "jupyter": {
          "source_hidden": false,
          "outputs_hidden": false
        },
        "nteract": {
          "transient": {
            "deleting": false
          }
        },
        "gather": {
          "logged": 1705224128620
        }
      }
    },
    {
      "cell_type": "markdown",
      "source": [
        "This code creates a boxplot to analyze how sentiment scores vary across different repositories, helping us understand the emotional tone associated with each project."
      ],
      "metadata": {
        "nteract": {
          "transient": {
            "deleting": false
          }
        }
      }
    },
    {
      "cell_type": "code",
      "source": [
        "# Repository-Specific Sentiment\n",
        "plt.figure(figsize=(14, 8))\n",
        "sns.boxplot(x='repository_name', y='sentiment_score', data=df, palette='muted')\n",
        "plt.title('Repository-Specific Sentiment Analysis')\n",
        "plt.xlabel('Repository')\n",
        "plt.ylabel('Sentiment Score')\n",
        "plt.xticks(rotation=45, ha='right')\n",
        "plt.show()\n"
      ],
      "outputs": [],
      "execution_count": null,
      "metadata": {
        "jupyter": {
          "source_hidden": false,
          "outputs_hidden": false
        },
        "nteract": {
          "transient": {
            "deleting": false
          }
        },
        "gather": {
          "logged": 1705224128649
        }
      }
    },
    {
      "cell_type": "code",
      "source": [],
      "outputs": [],
      "execution_count": null,
      "metadata": {
        "jupyter": {
          "source_hidden": false,
          "outputs_hidden": false
        },
        "nteract": {
          "transient": {
            "deleting": false
          }
        }
      }
    }
  ],
  "metadata": {
    "kernelspec": {
      "name": "python310-sdkv2",
      "language": "python",
      "display_name": "Python 3.10 - SDK v2"
    },
    "language_info": {
      "name": "python",
      "version": "3.10.11",
      "mimetype": "text/x-python",
      "codemirror_mode": {
        "name": "ipython",
        "version": 3
      },
      "pygments_lexer": "ipython3",
      "nbconvert_exporter": "python",
      "file_extension": ".py"
    },
    "microsoft": {
      "ms_spell_check": {
        "ms_spell_check_language": "en"
      },
      "host": {
        "AzureML": {
          "notebookHasBeenCompleted": true
        }
      }
    },
    "kernel_info": {
      "name": "python310-sdkv2"
    },
    "nteract": {
      "version": "nteract-front-end@1.0.0"
    }
  },
  "nbformat": 4,
  "nbformat_minor": 2
}