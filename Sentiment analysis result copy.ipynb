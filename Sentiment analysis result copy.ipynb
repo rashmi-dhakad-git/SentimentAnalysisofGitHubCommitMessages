{
 "cells": [
  {
   "cell_type": "code",
   "execution_count": 1,
   "id": "ee5d0979",
   "metadata": {},
   "outputs": [],
   "source": [
    "import pandas as pd\n",
    "import matplotlib.pyplot as plt\n",
    "import warnings \n",
    "warnings.filterwarnings('ignore')"
   ]
  },
  {
   "cell_type": "code",
   "execution_count": 2,
   "id": "8191151c",
   "metadata": {},
   "outputs": [],
   "source": [
    "# Loading CSV data \n",
    "data = pd.read_csv('full.csv')  "
   ]
  },
  {
   "cell_type": "code",
   "execution_count": 3,
   "id": "2a8e7aae",
   "metadata": {},
   "outputs": [],
   "source": [
    "data.head()\n",
    "df=data"
   ]
  },
  {
   "cell_type": "code",
   "execution_count": 4,
   "id": "8576d843",
   "metadata": {},
   "outputs": [
    {
     "data": {
      "text/html": [
       "<div>\n",
       "<style scoped>\n",
       "    .dataframe tbody tr th:only-of-type {\n",
       "        vertical-align: middle;\n",
       "    }\n",
       "\n",
       "    .dataframe tbody tr th {\n",
       "        vertical-align: top;\n",
       "    }\n",
       "\n",
       "    .dataframe thead th {\n",
       "        text-align: right;\n",
       "    }\n",
       "</style>\n",
       "<table border=\"1\" class=\"dataframe\">\n",
       "  <thead>\n",
       "    <tr style=\"text-align: right;\">\n",
       "      <th></th>\n",
       "      <th>commit</th>\n",
       "      <th>author</th>\n",
       "      <th>date</th>\n",
       "      <th>message</th>\n",
       "      <th>repo</th>\n",
       "    </tr>\n",
       "  </thead>\n",
       "  <tbody>\n",
       "    <tr>\n",
       "      <th>count</th>\n",
       "      <td>4336299</td>\n",
       "      <td>4336299</td>\n",
       "      <td>4336299</td>\n",
       "      <td>4335969</td>\n",
       "      <td>4336299</td>\n",
       "    </tr>\n",
       "    <tr>\n",
       "      <th>unique</th>\n",
       "      <td>4336299</td>\n",
       "      <td>89436</td>\n",
       "      <td>4268305</td>\n",
       "      <td>4217715</td>\n",
       "      <td>34</td>\n",
       "    </tr>\n",
       "    <tr>\n",
       "      <th>top</th>\n",
       "      <td>692bba578efb5e305c9b116568e5aad75b3fdbb3</td>\n",
       "      <td>chromium-autoroll &lt;chromium-autoroll@skia-publ...</td>\n",
       "      <td>Wed Nov 1 03:56:19 2017 +1000</td>\n",
       "      <td>Merge remote-tracking branch 'origin/master' i...</td>\n",
       "      <td>torvalds/linux</td>\n",
       "    </tr>\n",
       "    <tr>\n",
       "      <th>freq</th>\n",
       "      <td>1</td>\n",
       "      <td>36339</td>\n",
       "      <td>137</td>\n",
       "      <td>12753</td>\n",
       "      <td>998326</td>\n",
       "    </tr>\n",
       "  </tbody>\n",
       "</table>\n",
       "</div>"
      ],
      "text/plain": [
       "                                          commit  \\\n",
       "count                                    4336299   \n",
       "unique                                   4336299   \n",
       "top     692bba578efb5e305c9b116568e5aad75b3fdbb3   \n",
       "freq                                           1   \n",
       "\n",
       "                                                   author  \\\n",
       "count                                             4336299   \n",
       "unique                                              89436   \n",
       "top     chromium-autoroll <chromium-autoroll@skia-publ...   \n",
       "freq                                                36339   \n",
       "\n",
       "                                 date  \\\n",
       "count                         4336299   \n",
       "unique                        4268305   \n",
       "top     Wed Nov 1 03:56:19 2017 +1000   \n",
       "freq                              137   \n",
       "\n",
       "                                                  message            repo  \n",
       "count                                             4335969         4336299  \n",
       "unique                                            4217715              34  \n",
       "top     Merge remote-tracking branch 'origin/master' i...  torvalds/linux  \n",
       "freq                                                12753          998326  "
      ]
     },
     "execution_count": 4,
     "metadata": {},
     "output_type": "execute_result"
    }
   ],
   "source": [
    "data.describe()"
   ]
  },
  {
   "cell_type": "code",
   "execution_count": 5,
   "id": "eda76b10",
   "metadata": {},
   "outputs": [],
   "source": [
    "data=data.dropna()"
   ]
  },
  {
   "cell_type": "code",
   "execution_count": 6,
   "id": "0dcd7232",
   "metadata": {},
   "outputs": [
    {
     "data": {
      "text/html": [
       "<div>\n",
       "<style scoped>\n",
       "    .dataframe tbody tr th:only-of-type {\n",
       "        vertical-align: middle;\n",
       "    }\n",
       "\n",
       "    .dataframe tbody tr th {\n",
       "        vertical-align: top;\n",
       "    }\n",
       "\n",
       "    .dataframe thead th {\n",
       "        text-align: right;\n",
       "    }\n",
       "</style>\n",
       "<table border=\"1\" class=\"dataframe\">\n",
       "  <thead>\n",
       "    <tr style=\"text-align: right;\">\n",
       "      <th></th>\n",
       "      <th>commit</th>\n",
       "      <th>author</th>\n",
       "      <th>date</th>\n",
       "      <th>message</th>\n",
       "      <th>repo</th>\n",
       "    </tr>\n",
       "  </thead>\n",
       "  <tbody>\n",
       "    <tr>\n",
       "      <th>0</th>\n",
       "      <td>692bba578efb5e305c9b116568e5aad75b3fdbb3</td>\n",
       "      <td>Mortada Mehyar &lt;mortada@users.noreply.github.com&gt;</td>\n",
       "      <td>Wed Apr 21 12:27:07 2021 +0800</td>\n",
       "      <td>DOC: add example for plotting asymmetrical err...</td>\n",
       "      <td>pandas-dev/pandas</td>\n",
       "    </tr>\n",
       "    <tr>\n",
       "      <th>1</th>\n",
       "      <td>855696cde0ef5d80a7d4bd3f6a2940c5a2fecb3f</td>\n",
       "      <td>Patrick Hoefler &lt;61934744+phofl@users.noreply....</td>\n",
       "      <td>Wed Apr 21 01:23:07 2021 +0200</td>\n",
       "      <td>Add keyword sort to pivot_table (#40954)</td>\n",
       "      <td>pandas-dev/pandas</td>\n",
       "    </tr>\n",
       "    <tr>\n",
       "      <th>2</th>\n",
       "      <td>eaaefd140289a5103679ac6748567f724c7be56a</td>\n",
       "      <td>attack68 &lt;24256554+attack68@users.noreply.gith...</td>\n",
       "      <td>Wed Apr 21 01:21:22 2021 +0200</td>\n",
       "      <td>ENH: `Styler.highlight_quantile` method (#40926)</td>\n",
       "      <td>pandas-dev/pandas</td>\n",
       "    </tr>\n",
       "    <tr>\n",
       "      <th>3</th>\n",
       "      <td>aab87997058f3c74ba70286620ebe792ee4ef169</td>\n",
       "      <td>attack68 &lt;24256554+attack68@users.noreply.gith...</td>\n",
       "      <td>Wed Apr 21 01:01:03 2021 +0200</td>\n",
       "      <td>ENH: add `decimal` and `thousands` args to `St...</td>\n",
       "      <td>pandas-dev/pandas</td>\n",
       "    </tr>\n",
       "    <tr>\n",
       "      <th>4</th>\n",
       "      <td>9c43cd7675d96174051e470de1f45e2bf7c9ebdc</td>\n",
       "      <td>Simon Hawkins &lt;simonjayhawkins@gmail.com&gt;</td>\n",
       "      <td>Tue Apr 20 23:58:18 2021 +0100</td>\n",
       "      <td>[ArrowStringArray] Use utf8_upper and utf8_low...</td>\n",
       "      <td>pandas-dev/pandas</td>\n",
       "    </tr>\n",
       "    <tr>\n",
       "      <th>...</th>\n",
       "      <td>...</td>\n",
       "      <td>...</td>\n",
       "      <td>...</td>\n",
       "      <td>...</td>\n",
       "      <td>...</td>\n",
       "    </tr>\n",
       "    <tr>\n",
       "      <th>4336294</th>\n",
       "      <td>43a17862477d0b2b7fb825ffd2a00ac193d2f771</td>\n",
       "      <td>Johannes Rieken &lt;johannes.rieken@gmail.com&gt;</td>\n",
       "      <td>Fri Nov 13 16:36:52 2015 +0100</td>\n",
       "      <td>jsdoc fot vscode.d.ts</td>\n",
       "      <td>microsoft/vscode</td>\n",
       "    </tr>\n",
       "    <tr>\n",
       "      <th>4336295</th>\n",
       "      <td>e3281e77cb1b684787971fef7985002583ec843a</td>\n",
       "      <td>Johannes Rieken &lt;johannes.rieken@gmail.com&gt;</td>\n",
       "      <td>Fri Nov 13 15:18:17 2015 +0100</td>\n",
       "      <td>remove commented extension reference</td>\n",
       "      <td>microsoft/vscode</td>\n",
       "    </tr>\n",
       "    <tr>\n",
       "      <th>4336296</th>\n",
       "      <td>0a2f0cbc5c7ebc4573ba93c7b4c007efb1110856</td>\n",
       "      <td>Benjamin Pasero &lt;benjpas@microsoft.com&gt;</td>\n",
       "      <td>Fri Nov 13 16:32:42 2015 +0100</td>\n",
       "      <td>gulp-symdest does not preserve links on electr...</td>\n",
       "      <td>microsoft/vscode</td>\n",
       "    </tr>\n",
       "    <tr>\n",
       "      <th>4336297</th>\n",
       "      <td>6f9e2ae3907632e2f7dbbabe8da403edd6dfa120</td>\n",
       "      <td>Chris Dias &lt;chris@diasfam.com&gt;</td>\n",
       "      <td>Fri Nov 13 15:48:38 2015 +0100</td>\n",
       "      <td>Add reference to DefinitelyTyped, updated the ...</td>\n",
       "      <td>microsoft/vscode</td>\n",
       "    </tr>\n",
       "    <tr>\n",
       "      <th>4336298</th>\n",
       "      <td>8f35cc4768393b25468416829e980d7550619fb1</td>\n",
       "      <td>Erich Gamma &lt;egamma@microsoft.com&gt;</td>\n",
       "      <td>Fri Nov 13 14:39:38 2015 +0100</td>\n",
       "      <td>Hello Code</td>\n",
       "      <td>microsoft/vscode</td>\n",
       "    </tr>\n",
       "  </tbody>\n",
       "</table>\n",
       "<p>4335969 rows × 5 columns</p>\n",
       "</div>"
      ],
      "text/plain": [
       "                                           commit  \\\n",
       "0        692bba578efb5e305c9b116568e5aad75b3fdbb3   \n",
       "1        855696cde0ef5d80a7d4bd3f6a2940c5a2fecb3f   \n",
       "2        eaaefd140289a5103679ac6748567f724c7be56a   \n",
       "3        aab87997058f3c74ba70286620ebe792ee4ef169   \n",
       "4        9c43cd7675d96174051e470de1f45e2bf7c9ebdc   \n",
       "...                                           ...   \n",
       "4336294  43a17862477d0b2b7fb825ffd2a00ac193d2f771   \n",
       "4336295  e3281e77cb1b684787971fef7985002583ec843a   \n",
       "4336296  0a2f0cbc5c7ebc4573ba93c7b4c007efb1110856   \n",
       "4336297  6f9e2ae3907632e2f7dbbabe8da403edd6dfa120   \n",
       "4336298  8f35cc4768393b25468416829e980d7550619fb1   \n",
       "\n",
       "                                                    author  \\\n",
       "0        Mortada Mehyar <mortada@users.noreply.github.com>   \n",
       "1        Patrick Hoefler <61934744+phofl@users.noreply....   \n",
       "2        attack68 <24256554+attack68@users.noreply.gith...   \n",
       "3        attack68 <24256554+attack68@users.noreply.gith...   \n",
       "4                Simon Hawkins <simonjayhawkins@gmail.com>   \n",
       "...                                                    ...   \n",
       "4336294        Johannes Rieken <johannes.rieken@gmail.com>   \n",
       "4336295        Johannes Rieken <johannes.rieken@gmail.com>   \n",
       "4336296            Benjamin Pasero <benjpas@microsoft.com>   \n",
       "4336297                     Chris Dias <chris@diasfam.com>   \n",
       "4336298                 Erich Gamma <egamma@microsoft.com>   \n",
       "\n",
       "                                   date  \\\n",
       "0        Wed Apr 21 12:27:07 2021 +0800   \n",
       "1        Wed Apr 21 01:23:07 2021 +0200   \n",
       "2        Wed Apr 21 01:21:22 2021 +0200   \n",
       "3        Wed Apr 21 01:01:03 2021 +0200   \n",
       "4        Tue Apr 20 23:58:18 2021 +0100   \n",
       "...                                 ...   \n",
       "4336294  Fri Nov 13 16:36:52 2015 +0100   \n",
       "4336295  Fri Nov 13 15:18:17 2015 +0100   \n",
       "4336296  Fri Nov 13 16:32:42 2015 +0100   \n",
       "4336297  Fri Nov 13 15:48:38 2015 +0100   \n",
       "4336298  Fri Nov 13 14:39:38 2015 +0100   \n",
       "\n",
       "                                                   message               repo  \n",
       "0        DOC: add example for plotting asymmetrical err...  pandas-dev/pandas  \n",
       "1                 Add keyword sort to pivot_table (#40954)  pandas-dev/pandas  \n",
       "2         ENH: `Styler.highlight_quantile` method (#40926)  pandas-dev/pandas  \n",
       "3        ENH: add `decimal` and `thousands` args to `St...  pandas-dev/pandas  \n",
       "4        [ArrowStringArray] Use utf8_upper and utf8_low...  pandas-dev/pandas  \n",
       "...                                                    ...                ...  \n",
       "4336294                              jsdoc fot vscode.d.ts   microsoft/vscode  \n",
       "4336295               remove commented extension reference   microsoft/vscode  \n",
       "4336296  gulp-symdest does not preserve links on electr...   microsoft/vscode  \n",
       "4336297  Add reference to DefinitelyTyped, updated the ...   microsoft/vscode  \n",
       "4336298                                         Hello Code   microsoft/vscode  \n",
       "\n",
       "[4335969 rows x 5 columns]"
      ]
     },
     "execution_count": 6,
     "metadata": {},
     "output_type": "execute_result"
    }
   ],
   "source": [
    "data"
   ]
  },
  {
   "cell_type": "code",
   "execution_count": 7,
   "id": "8e2647f6",
   "metadata": {},
   "outputs": [],
   "source": [
    "data['date'] = pd.to_datetime(data['date'], utc=True)"
   ]
  },
  {
   "cell_type": "code",
   "execution_count": 8,
   "id": "082b9764",
   "metadata": {},
   "outputs": [],
   "source": [
    "data['date'] = pd.to_datetime(data['date'], format='%a %b %d %H:%M:%S %Y %z')"
   ]
  },
  {
   "cell_type": "code",
   "execution_count": 9,
   "id": "6cc1338d",
   "metadata": {},
   "outputs": [
    {
     "data": {
      "text/plain": [
       "commit                  object\n",
       "author                  object\n",
       "date       datetime64[ns, UTC]\n",
       "message                 object\n",
       "repo                    object\n",
       "dtype: object"
      ]
     },
     "execution_count": 9,
     "metadata": {},
     "output_type": "execute_result"
    }
   ],
   "source": [
    "data.dtypes"
   ]
  },
  {
   "cell_type": "code",
   "execution_count": 10,
   "id": "807a9f7a",
   "metadata": {},
   "outputs": [],
   "source": [
    "data['commit'] = data['commit'].astype(pd.StringDtype())\n",
    "data['author'] = data['author'].astype(pd.StringDtype())\n",
    "data['message'] = data['message'].astype(pd.StringDtype())\n"
   ]
  },
  {
   "cell_type": "code",
   "execution_count": 11,
   "id": "1020d5b9",
   "metadata": {},
   "outputs": [
    {
     "data": {
      "text/plain": [
       "commit          string[python]\n",
       "author          string[python]\n",
       "date       datetime64[ns, UTC]\n",
       "message         string[python]\n",
       "repo                    object\n",
       "dtype: object"
      ]
     },
     "execution_count": 11,
     "metadata": {},
     "output_type": "execute_result"
    }
   ],
   "source": [
    "data.dtypes"
   ]
  },
  {
   "cell_type": "code",
   "execution_count": 12,
   "id": "3c2c4400",
   "metadata": {},
   "outputs": [],
   "source": [
    "data[\"repo\"] = data[\"repo\"].astype(\"category\")\n"
   ]
  },
  {
   "cell_type": "code",
   "execution_count": 13,
   "id": "74efac96",
   "metadata": {},
   "outputs": [
    {
     "data": {
      "text/plain": [
       "commit          string[python]\n",
       "author          string[python]\n",
       "date       datetime64[ns, UTC]\n",
       "message         string[python]\n",
       "repo                  category\n",
       "dtype: object"
      ]
     },
     "execution_count": 13,
     "metadata": {},
     "output_type": "execute_result"
    }
   ],
   "source": [
    "data.dtypes"
   ]
  },
  {
   "cell_type": "code",
   "execution_count": 14,
   "id": "fa426865",
   "metadata": {},
   "outputs": [],
   "source": [
    "import pandas as pd\n",
    "from nltk.sentiment.vader import SentimentIntensityAnalyzer\n"
   ]
  },
  {
   "cell_type": "code",
   "execution_count": 15,
   "id": "549ffc74",
   "metadata": {},
   "outputs": [],
   "source": [
    "sid = SentimentIntensityAnalyzer()\n"
   ]
  },
  {
   "cell_type": "code",
   "execution_count": 16,
   "id": "950c24f0",
   "metadata": {},
   "outputs": [
    {
     "data": {
      "text/plain": [
       "0          pandas-dev/pandas\n",
       "1          pandas-dev/pandas\n",
       "2          pandas-dev/pandas\n",
       "3          pandas-dev/pandas\n",
       "4          pandas-dev/pandas\n",
       "                 ...        \n",
       "4336294     microsoft/vscode\n",
       "4336295     microsoft/vscode\n",
       "4336296     microsoft/vscode\n",
       "4336297     microsoft/vscode\n",
       "4336298     microsoft/vscode\n",
       "Name: repo, Length: 4335969, dtype: category\n",
       "Categories (34, object): ['angular/angular', 'apache/httpd', 'apache/spark', 'apple/swift', ..., 'tensorflow/tensorflow', 'tidyverse/ggplot2', 'torvalds/linux', 'v8/v8']"
      ]
     },
     "execution_count": 16,
     "metadata": {},
     "output_type": "execute_result"
    }
   ],
   "source": [
    "data['repo']"
   ]
  },
  {
   "cell_type": "code",
   "execution_count": 17,
   "id": "81561a77",
   "metadata": {},
   "outputs": [],
   "source": [
    "text_column=\"message\"\n",
    "# Performing sentiment analysis on each cell of the entire dataset\n",
    "sentiment_scores = []\n",
    "for index, row in data.iterrows():\n",
    "    text = str(row[text_column])\n",
    "    sentiment = sid.polarity_scores(text)\n",
    "    sentiment_scores.append(sentiment)\n",
    "\n",
    "# Adding sentiment scores to the dataframe\n",
    "data.loc[:, 'sentiment_scores'] = sentiment_scores"
   ]
  },
  {
   "cell_type": "code",
   "execution_count": 18,
   "id": "abd59521",
   "metadata": {},
   "outputs": [
    {
     "data": {
      "text/html": [
       "<div>\n",
       "<style scoped>\n",
       "    .dataframe tbody tr th:only-of-type {\n",
       "        vertical-align: middle;\n",
       "    }\n",
       "\n",
       "    .dataframe tbody tr th {\n",
       "        vertical-align: top;\n",
       "    }\n",
       "\n",
       "    .dataframe thead th {\n",
       "        text-align: right;\n",
       "    }\n",
       "</style>\n",
       "<table border=\"1\" class=\"dataframe\">\n",
       "  <thead>\n",
       "    <tr style=\"text-align: right;\">\n",
       "      <th></th>\n",
       "      <th>commit</th>\n",
       "      <th>author</th>\n",
       "      <th>date</th>\n",
       "      <th>message</th>\n",
       "      <th>repo</th>\n",
       "      <th>sentiment_scores</th>\n",
       "    </tr>\n",
       "  </thead>\n",
       "  <tbody>\n",
       "    <tr>\n",
       "      <th>0</th>\n",
       "      <td>692bba578efb5e305c9b116568e5aad75b3fdbb3</td>\n",
       "      <td>Mortada Mehyar &lt;mortada@users.noreply.github.com&gt;</td>\n",
       "      <td>2021-04-21 04:27:07+00:00</td>\n",
       "      <td>DOC: add example for plotting asymmetrical err...</td>\n",
       "      <td>pandas-dev/pandas</td>\n",
       "      <td>{'neg': 0.252, 'neu': 0.748, 'pos': 0.0, 'comp...</td>\n",
       "    </tr>\n",
       "    <tr>\n",
       "      <th>1</th>\n",
       "      <td>855696cde0ef5d80a7d4bd3f6a2940c5a2fecb3f</td>\n",
       "      <td>Patrick Hoefler &lt;61934744+phofl@users.noreply....</td>\n",
       "      <td>2021-04-20 23:23:07+00:00</td>\n",
       "      <td>Add keyword sort to pivot_table (#40954)</td>\n",
       "      <td>pandas-dev/pandas</td>\n",
       "      <td>{'neg': 0.0, 'neu': 1.0, 'pos': 0.0, 'compound...</td>\n",
       "    </tr>\n",
       "    <tr>\n",
       "      <th>2</th>\n",
       "      <td>eaaefd140289a5103679ac6748567f724c7be56a</td>\n",
       "      <td>attack68 &lt;24256554+attack68@users.noreply.gith...</td>\n",
       "      <td>2021-04-20 23:21:22+00:00</td>\n",
       "      <td>ENH: `Styler.highlight_quantile` method (#40926)</td>\n",
       "      <td>pandas-dev/pandas</td>\n",
       "      <td>{'neg': 0.0, 'neu': 1.0, 'pos': 0.0, 'compound...</td>\n",
       "    </tr>\n",
       "    <tr>\n",
       "      <th>3</th>\n",
       "      <td>aab87997058f3c74ba70286620ebe792ee4ef169</td>\n",
       "      <td>attack68 &lt;24256554+attack68@users.noreply.gith...</td>\n",
       "      <td>2021-04-20 23:01:03+00:00</td>\n",
       "      <td>ENH: add `decimal` and `thousands` args to `St...</td>\n",
       "      <td>pandas-dev/pandas</td>\n",
       "      <td>{'neg': 0.0, 'neu': 1.0, 'pos': 0.0, 'compound...</td>\n",
       "    </tr>\n",
       "    <tr>\n",
       "      <th>4</th>\n",
       "      <td>9c43cd7675d96174051e470de1f45e2bf7c9ebdc</td>\n",
       "      <td>Simon Hawkins &lt;simonjayhawkins@gmail.com&gt;</td>\n",
       "      <td>2021-04-20 22:58:18+00:00</td>\n",
       "      <td>[ArrowStringArray] Use utf8_upper and utf8_low...</td>\n",
       "      <td>pandas-dev/pandas</td>\n",
       "      <td>{'neg': 0.0, 'neu': 1.0, 'pos': 0.0, 'compound...</td>\n",
       "    </tr>\n",
       "    <tr>\n",
       "      <th>...</th>\n",
       "      <td>...</td>\n",
       "      <td>...</td>\n",
       "      <td>...</td>\n",
       "      <td>...</td>\n",
       "      <td>...</td>\n",
       "      <td>...</td>\n",
       "    </tr>\n",
       "    <tr>\n",
       "      <th>4336294</th>\n",
       "      <td>43a17862477d0b2b7fb825ffd2a00ac193d2f771</td>\n",
       "      <td>Johannes Rieken &lt;johannes.rieken@gmail.com&gt;</td>\n",
       "      <td>2015-11-13 15:36:52+00:00</td>\n",
       "      <td>jsdoc fot vscode.d.ts</td>\n",
       "      <td>microsoft/vscode</td>\n",
       "      <td>{'neg': 0.0, 'neu': 1.0, 'pos': 0.0, 'compound...</td>\n",
       "    </tr>\n",
       "    <tr>\n",
       "      <th>4336295</th>\n",
       "      <td>e3281e77cb1b684787971fef7985002583ec843a</td>\n",
       "      <td>Johannes Rieken &lt;johannes.rieken@gmail.com&gt;</td>\n",
       "      <td>2015-11-13 14:18:17+00:00</td>\n",
       "      <td>remove commented extension reference</td>\n",
       "      <td>microsoft/vscode</td>\n",
       "      <td>{'neg': 0.0, 'neu': 1.0, 'pos': 0.0, 'compound...</td>\n",
       "    </tr>\n",
       "    <tr>\n",
       "      <th>4336296</th>\n",
       "      <td>0a2f0cbc5c7ebc4573ba93c7b4c007efb1110856</td>\n",
       "      <td>Benjamin Pasero &lt;benjpas@microsoft.com&gt;</td>\n",
       "      <td>2015-11-13 15:32:42+00:00</td>\n",
       "      <td>gulp-symdest does not preserve links on electr...</td>\n",
       "      <td>microsoft/vscode</td>\n",
       "      <td>{'neg': 0.0, 'neu': 1.0, 'pos': 0.0, 'compound...</td>\n",
       "    </tr>\n",
       "    <tr>\n",
       "      <th>4336297</th>\n",
       "      <td>6f9e2ae3907632e2f7dbbabe8da403edd6dfa120</td>\n",
       "      <td>Chris Dias &lt;chris@diasfam.com&gt;</td>\n",
       "      <td>2015-11-13 14:48:38+00:00</td>\n",
       "      <td>Add reference to DefinitelyTyped, updated the ...</td>\n",
       "      <td>microsoft/vscode</td>\n",
       "      <td>{'neg': 0.0, 'neu': 1.0, 'pos': 0.0, 'compound...</td>\n",
       "    </tr>\n",
       "    <tr>\n",
       "      <th>4336298</th>\n",
       "      <td>8f35cc4768393b25468416829e980d7550619fb1</td>\n",
       "      <td>Erich Gamma &lt;egamma@microsoft.com&gt;</td>\n",
       "      <td>2015-11-13 13:39:38+00:00</td>\n",
       "      <td>Hello Code</td>\n",
       "      <td>microsoft/vscode</td>\n",
       "      <td>{'neg': 0.0, 'neu': 1.0, 'pos': 0.0, 'compound...</td>\n",
       "    </tr>\n",
       "  </tbody>\n",
       "</table>\n",
       "<p>4335969 rows × 6 columns</p>\n",
       "</div>"
      ],
      "text/plain": [
       "                                           commit  \\\n",
       "0        692bba578efb5e305c9b116568e5aad75b3fdbb3   \n",
       "1        855696cde0ef5d80a7d4bd3f6a2940c5a2fecb3f   \n",
       "2        eaaefd140289a5103679ac6748567f724c7be56a   \n",
       "3        aab87997058f3c74ba70286620ebe792ee4ef169   \n",
       "4        9c43cd7675d96174051e470de1f45e2bf7c9ebdc   \n",
       "...                                           ...   \n",
       "4336294  43a17862477d0b2b7fb825ffd2a00ac193d2f771   \n",
       "4336295  e3281e77cb1b684787971fef7985002583ec843a   \n",
       "4336296  0a2f0cbc5c7ebc4573ba93c7b4c007efb1110856   \n",
       "4336297  6f9e2ae3907632e2f7dbbabe8da403edd6dfa120   \n",
       "4336298  8f35cc4768393b25468416829e980d7550619fb1   \n",
       "\n",
       "                                                    author  \\\n",
       "0        Mortada Mehyar <mortada@users.noreply.github.com>   \n",
       "1        Patrick Hoefler <61934744+phofl@users.noreply....   \n",
       "2        attack68 <24256554+attack68@users.noreply.gith...   \n",
       "3        attack68 <24256554+attack68@users.noreply.gith...   \n",
       "4                Simon Hawkins <simonjayhawkins@gmail.com>   \n",
       "...                                                    ...   \n",
       "4336294        Johannes Rieken <johannes.rieken@gmail.com>   \n",
       "4336295        Johannes Rieken <johannes.rieken@gmail.com>   \n",
       "4336296            Benjamin Pasero <benjpas@microsoft.com>   \n",
       "4336297                     Chris Dias <chris@diasfam.com>   \n",
       "4336298                 Erich Gamma <egamma@microsoft.com>   \n",
       "\n",
       "                             date  \\\n",
       "0       2021-04-21 04:27:07+00:00   \n",
       "1       2021-04-20 23:23:07+00:00   \n",
       "2       2021-04-20 23:21:22+00:00   \n",
       "3       2021-04-20 23:01:03+00:00   \n",
       "4       2021-04-20 22:58:18+00:00   \n",
       "...                           ...   \n",
       "4336294 2015-11-13 15:36:52+00:00   \n",
       "4336295 2015-11-13 14:18:17+00:00   \n",
       "4336296 2015-11-13 15:32:42+00:00   \n",
       "4336297 2015-11-13 14:48:38+00:00   \n",
       "4336298 2015-11-13 13:39:38+00:00   \n",
       "\n",
       "                                                   message               repo  \\\n",
       "0        DOC: add example for plotting asymmetrical err...  pandas-dev/pandas   \n",
       "1                 Add keyword sort to pivot_table (#40954)  pandas-dev/pandas   \n",
       "2         ENH: `Styler.highlight_quantile` method (#40926)  pandas-dev/pandas   \n",
       "3        ENH: add `decimal` and `thousands` args to `St...  pandas-dev/pandas   \n",
       "4        [ArrowStringArray] Use utf8_upper and utf8_low...  pandas-dev/pandas   \n",
       "...                                                    ...                ...   \n",
       "4336294                              jsdoc fot vscode.d.ts   microsoft/vscode   \n",
       "4336295               remove commented extension reference   microsoft/vscode   \n",
       "4336296  gulp-symdest does not preserve links on electr...   microsoft/vscode   \n",
       "4336297  Add reference to DefinitelyTyped, updated the ...   microsoft/vscode   \n",
       "4336298                                         Hello Code   microsoft/vscode   \n",
       "\n",
       "                                          sentiment_scores  \n",
       "0        {'neg': 0.252, 'neu': 0.748, 'pos': 0.0, 'comp...  \n",
       "1        {'neg': 0.0, 'neu': 1.0, 'pos': 0.0, 'compound...  \n",
       "2        {'neg': 0.0, 'neu': 1.0, 'pos': 0.0, 'compound...  \n",
       "3        {'neg': 0.0, 'neu': 1.0, 'pos': 0.0, 'compound...  \n",
       "4        {'neg': 0.0, 'neu': 1.0, 'pos': 0.0, 'compound...  \n",
       "...                                                    ...  \n",
       "4336294  {'neg': 0.0, 'neu': 1.0, 'pos': 0.0, 'compound...  \n",
       "4336295  {'neg': 0.0, 'neu': 1.0, 'pos': 0.0, 'compound...  \n",
       "4336296  {'neg': 0.0, 'neu': 1.0, 'pos': 0.0, 'compound...  \n",
       "4336297  {'neg': 0.0, 'neu': 1.0, 'pos': 0.0, 'compound...  \n",
       "4336298  {'neg': 0.0, 'neu': 1.0, 'pos': 0.0, 'compound...  \n",
       "\n",
       "[4335969 rows x 6 columns]"
      ]
     },
     "execution_count": 18,
     "metadata": {},
     "output_type": "execute_result"
    }
   ],
   "source": [
    "data"
   ]
  },
  {
   "cell_type": "code",
   "execution_count": 19,
   "id": "e1beebb4",
   "metadata": {},
   "outputs": [
    {
     "data": {
      "text/plain": [
       "commit                   string[python]\n",
       "author                   string[python]\n",
       "date                datetime64[ns, UTC]\n",
       "message                  string[python]\n",
       "repo                           category\n",
       "sentiment_scores                 object\n",
       "dtype: object"
      ]
     },
     "execution_count": 19,
     "metadata": {},
     "output_type": "execute_result"
    }
   ],
   "source": [
    "data.dtypes"
   ]
  },
  {
   "cell_type": "code",
   "execution_count": 20,
   "id": "ef9f7140",
   "metadata": {},
   "outputs": [
    {
     "data": {
      "text/plain": [
       "pandas.core.series.Series"
      ]
     },
     "execution_count": 20,
     "metadata": {},
     "output_type": "execute_result"
    }
   ],
   "source": [
    "type(data['sentiment_scores'])"
   ]
  },
  {
   "cell_type": "code",
   "execution_count": 21,
   "id": "cc2c3420",
   "metadata": {},
   "outputs": [],
   "source": [
    "data[['pos', 'neg', 'neu', 'compound']] = data['sentiment_scores'].apply(lambda x: pd.Series(x))\n"
   ]
  },
  {
   "cell_type": "code",
   "execution_count": 22,
   "id": "05de5112",
   "metadata": {},
   "outputs": [
    {
     "data": {
      "text/html": [
       "<div>\n",
       "<style scoped>\n",
       "    .dataframe tbody tr th:only-of-type {\n",
       "        vertical-align: middle;\n",
       "    }\n",
       "\n",
       "    .dataframe tbody tr th {\n",
       "        vertical-align: top;\n",
       "    }\n",
       "\n",
       "    .dataframe thead th {\n",
       "        text-align: right;\n",
       "    }\n",
       "</style>\n",
       "<table border=\"1\" class=\"dataframe\">\n",
       "  <thead>\n",
       "    <tr style=\"text-align: right;\">\n",
       "      <th></th>\n",
       "      <th>commit</th>\n",
       "      <th>author</th>\n",
       "      <th>date</th>\n",
       "      <th>message</th>\n",
       "      <th>repo</th>\n",
       "      <th>sentiment_scores</th>\n",
       "      <th>pos</th>\n",
       "      <th>neg</th>\n",
       "      <th>neu</th>\n",
       "      <th>compound</th>\n",
       "    </tr>\n",
       "  </thead>\n",
       "  <tbody>\n",
       "    <tr>\n",
       "      <th>0</th>\n",
       "      <td>692bba578efb5e305c9b116568e5aad75b3fdbb3</td>\n",
       "      <td>Mortada Mehyar &lt;mortada@users.noreply.github.com&gt;</td>\n",
       "      <td>2021-04-21 04:27:07+00:00</td>\n",
       "      <td>DOC: add example for plotting asymmetrical err...</td>\n",
       "      <td>pandas-dev/pandas</td>\n",
       "      <td>{'neg': 0.252, 'neu': 0.748, 'pos': 0.0, 'comp...</td>\n",
       "      <td>0.252</td>\n",
       "      <td>0.748</td>\n",
       "      <td>0.0</td>\n",
       "      <td>-0.4019</td>\n",
       "    </tr>\n",
       "    <tr>\n",
       "      <th>1</th>\n",
       "      <td>855696cde0ef5d80a7d4bd3f6a2940c5a2fecb3f</td>\n",
       "      <td>Patrick Hoefler &lt;61934744+phofl@users.noreply....</td>\n",
       "      <td>2021-04-20 23:23:07+00:00</td>\n",
       "      <td>Add keyword sort to pivot_table (#40954)</td>\n",
       "      <td>pandas-dev/pandas</td>\n",
       "      <td>{'neg': 0.0, 'neu': 1.0, 'pos': 0.0, 'compound...</td>\n",
       "      <td>0.000</td>\n",
       "      <td>1.000</td>\n",
       "      <td>0.0</td>\n",
       "      <td>0.0000</td>\n",
       "    </tr>\n",
       "    <tr>\n",
       "      <th>2</th>\n",
       "      <td>eaaefd140289a5103679ac6748567f724c7be56a</td>\n",
       "      <td>attack68 &lt;24256554+attack68@users.noreply.gith...</td>\n",
       "      <td>2021-04-20 23:21:22+00:00</td>\n",
       "      <td>ENH: `Styler.highlight_quantile` method (#40926)</td>\n",
       "      <td>pandas-dev/pandas</td>\n",
       "      <td>{'neg': 0.0, 'neu': 1.0, 'pos': 0.0, 'compound...</td>\n",
       "      <td>0.000</td>\n",
       "      <td>1.000</td>\n",
       "      <td>0.0</td>\n",
       "      <td>0.0000</td>\n",
       "    </tr>\n",
       "    <tr>\n",
       "      <th>3</th>\n",
       "      <td>aab87997058f3c74ba70286620ebe792ee4ef169</td>\n",
       "      <td>attack68 &lt;24256554+attack68@users.noreply.gith...</td>\n",
       "      <td>2021-04-20 23:01:03+00:00</td>\n",
       "      <td>ENH: add `decimal` and `thousands` args to `St...</td>\n",
       "      <td>pandas-dev/pandas</td>\n",
       "      <td>{'neg': 0.0, 'neu': 1.0, 'pos': 0.0, 'compound...</td>\n",
       "      <td>0.000</td>\n",
       "      <td>1.000</td>\n",
       "      <td>0.0</td>\n",
       "      <td>0.0000</td>\n",
       "    </tr>\n",
       "    <tr>\n",
       "      <th>4</th>\n",
       "      <td>9c43cd7675d96174051e470de1f45e2bf7c9ebdc</td>\n",
       "      <td>Simon Hawkins &lt;simonjayhawkins@gmail.com&gt;</td>\n",
       "      <td>2021-04-20 22:58:18+00:00</td>\n",
       "      <td>[ArrowStringArray] Use utf8_upper and utf8_low...</td>\n",
       "      <td>pandas-dev/pandas</td>\n",
       "      <td>{'neg': 0.0, 'neu': 1.0, 'pos': 0.0, 'compound...</td>\n",
       "      <td>0.000</td>\n",
       "      <td>1.000</td>\n",
       "      <td>0.0</td>\n",
       "      <td>0.0000</td>\n",
       "    </tr>\n",
       "    <tr>\n",
       "      <th>...</th>\n",
       "      <td>...</td>\n",
       "      <td>...</td>\n",
       "      <td>...</td>\n",
       "      <td>...</td>\n",
       "      <td>...</td>\n",
       "      <td>...</td>\n",
       "      <td>...</td>\n",
       "      <td>...</td>\n",
       "      <td>...</td>\n",
       "      <td>...</td>\n",
       "    </tr>\n",
       "    <tr>\n",
       "      <th>4336294</th>\n",
       "      <td>43a17862477d0b2b7fb825ffd2a00ac193d2f771</td>\n",
       "      <td>Johannes Rieken &lt;johannes.rieken@gmail.com&gt;</td>\n",
       "      <td>2015-11-13 15:36:52+00:00</td>\n",
       "      <td>jsdoc fot vscode.d.ts</td>\n",
       "      <td>microsoft/vscode</td>\n",
       "      <td>{'neg': 0.0, 'neu': 1.0, 'pos': 0.0, 'compound...</td>\n",
       "      <td>0.000</td>\n",
       "      <td>1.000</td>\n",
       "      <td>0.0</td>\n",
       "      <td>0.0000</td>\n",
       "    </tr>\n",
       "    <tr>\n",
       "      <th>4336295</th>\n",
       "      <td>e3281e77cb1b684787971fef7985002583ec843a</td>\n",
       "      <td>Johannes Rieken &lt;johannes.rieken@gmail.com&gt;</td>\n",
       "      <td>2015-11-13 14:18:17+00:00</td>\n",
       "      <td>remove commented extension reference</td>\n",
       "      <td>microsoft/vscode</td>\n",
       "      <td>{'neg': 0.0, 'neu': 1.0, 'pos': 0.0, 'compound...</td>\n",
       "      <td>0.000</td>\n",
       "      <td>1.000</td>\n",
       "      <td>0.0</td>\n",
       "      <td>0.0000</td>\n",
       "    </tr>\n",
       "    <tr>\n",
       "      <th>4336296</th>\n",
       "      <td>0a2f0cbc5c7ebc4573ba93c7b4c007efb1110856</td>\n",
       "      <td>Benjamin Pasero &lt;benjpas@microsoft.com&gt;</td>\n",
       "      <td>2015-11-13 15:32:42+00:00</td>\n",
       "      <td>gulp-symdest does not preserve links on electr...</td>\n",
       "      <td>microsoft/vscode</td>\n",
       "      <td>{'neg': 0.0, 'neu': 1.0, 'pos': 0.0, 'compound...</td>\n",
       "      <td>0.000</td>\n",
       "      <td>1.000</td>\n",
       "      <td>0.0</td>\n",
       "      <td>0.0000</td>\n",
       "    </tr>\n",
       "    <tr>\n",
       "      <th>4336297</th>\n",
       "      <td>6f9e2ae3907632e2f7dbbabe8da403edd6dfa120</td>\n",
       "      <td>Chris Dias &lt;chris@diasfam.com&gt;</td>\n",
       "      <td>2015-11-13 14:48:38+00:00</td>\n",
       "      <td>Add reference to DefinitelyTyped, updated the ...</td>\n",
       "      <td>microsoft/vscode</td>\n",
       "      <td>{'neg': 0.0, 'neu': 1.0, 'pos': 0.0, 'compound...</td>\n",
       "      <td>0.000</td>\n",
       "      <td>1.000</td>\n",
       "      <td>0.0</td>\n",
       "      <td>0.0000</td>\n",
       "    </tr>\n",
       "    <tr>\n",
       "      <th>4336298</th>\n",
       "      <td>8f35cc4768393b25468416829e980d7550619fb1</td>\n",
       "      <td>Erich Gamma &lt;egamma@microsoft.com&gt;</td>\n",
       "      <td>2015-11-13 13:39:38+00:00</td>\n",
       "      <td>Hello Code</td>\n",
       "      <td>microsoft/vscode</td>\n",
       "      <td>{'neg': 0.0, 'neu': 1.0, 'pos': 0.0, 'compound...</td>\n",
       "      <td>0.000</td>\n",
       "      <td>1.000</td>\n",
       "      <td>0.0</td>\n",
       "      <td>0.0000</td>\n",
       "    </tr>\n",
       "  </tbody>\n",
       "</table>\n",
       "<p>4335969 rows × 10 columns</p>\n",
       "</div>"
      ],
      "text/plain": [
       "                                           commit  \\\n",
       "0        692bba578efb5e305c9b116568e5aad75b3fdbb3   \n",
       "1        855696cde0ef5d80a7d4bd3f6a2940c5a2fecb3f   \n",
       "2        eaaefd140289a5103679ac6748567f724c7be56a   \n",
       "3        aab87997058f3c74ba70286620ebe792ee4ef169   \n",
       "4        9c43cd7675d96174051e470de1f45e2bf7c9ebdc   \n",
       "...                                           ...   \n",
       "4336294  43a17862477d0b2b7fb825ffd2a00ac193d2f771   \n",
       "4336295  e3281e77cb1b684787971fef7985002583ec843a   \n",
       "4336296  0a2f0cbc5c7ebc4573ba93c7b4c007efb1110856   \n",
       "4336297  6f9e2ae3907632e2f7dbbabe8da403edd6dfa120   \n",
       "4336298  8f35cc4768393b25468416829e980d7550619fb1   \n",
       "\n",
       "                                                    author  \\\n",
       "0        Mortada Mehyar <mortada@users.noreply.github.com>   \n",
       "1        Patrick Hoefler <61934744+phofl@users.noreply....   \n",
       "2        attack68 <24256554+attack68@users.noreply.gith...   \n",
       "3        attack68 <24256554+attack68@users.noreply.gith...   \n",
       "4                Simon Hawkins <simonjayhawkins@gmail.com>   \n",
       "...                                                    ...   \n",
       "4336294        Johannes Rieken <johannes.rieken@gmail.com>   \n",
       "4336295        Johannes Rieken <johannes.rieken@gmail.com>   \n",
       "4336296            Benjamin Pasero <benjpas@microsoft.com>   \n",
       "4336297                     Chris Dias <chris@diasfam.com>   \n",
       "4336298                 Erich Gamma <egamma@microsoft.com>   \n",
       "\n",
       "                             date  \\\n",
       "0       2021-04-21 04:27:07+00:00   \n",
       "1       2021-04-20 23:23:07+00:00   \n",
       "2       2021-04-20 23:21:22+00:00   \n",
       "3       2021-04-20 23:01:03+00:00   \n",
       "4       2021-04-20 22:58:18+00:00   \n",
       "...                           ...   \n",
       "4336294 2015-11-13 15:36:52+00:00   \n",
       "4336295 2015-11-13 14:18:17+00:00   \n",
       "4336296 2015-11-13 15:32:42+00:00   \n",
       "4336297 2015-11-13 14:48:38+00:00   \n",
       "4336298 2015-11-13 13:39:38+00:00   \n",
       "\n",
       "                                                   message               repo  \\\n",
       "0        DOC: add example for plotting asymmetrical err...  pandas-dev/pandas   \n",
       "1                 Add keyword sort to pivot_table (#40954)  pandas-dev/pandas   \n",
       "2         ENH: `Styler.highlight_quantile` method (#40926)  pandas-dev/pandas   \n",
       "3        ENH: add `decimal` and `thousands` args to `St...  pandas-dev/pandas   \n",
       "4        [ArrowStringArray] Use utf8_upper and utf8_low...  pandas-dev/pandas   \n",
       "...                                                    ...                ...   \n",
       "4336294                              jsdoc fot vscode.d.ts   microsoft/vscode   \n",
       "4336295               remove commented extension reference   microsoft/vscode   \n",
       "4336296  gulp-symdest does not preserve links on electr...   microsoft/vscode   \n",
       "4336297  Add reference to DefinitelyTyped, updated the ...   microsoft/vscode   \n",
       "4336298                                         Hello Code   microsoft/vscode   \n",
       "\n",
       "                                          sentiment_scores    pos    neg  neu  \\\n",
       "0        {'neg': 0.252, 'neu': 0.748, 'pos': 0.0, 'comp...  0.252  0.748  0.0   \n",
       "1        {'neg': 0.0, 'neu': 1.0, 'pos': 0.0, 'compound...  0.000  1.000  0.0   \n",
       "2        {'neg': 0.0, 'neu': 1.0, 'pos': 0.0, 'compound...  0.000  1.000  0.0   \n",
       "3        {'neg': 0.0, 'neu': 1.0, 'pos': 0.0, 'compound...  0.000  1.000  0.0   \n",
       "4        {'neg': 0.0, 'neu': 1.0, 'pos': 0.0, 'compound...  0.000  1.000  0.0   \n",
       "...                                                    ...    ...    ...  ...   \n",
       "4336294  {'neg': 0.0, 'neu': 1.0, 'pos': 0.0, 'compound...  0.000  1.000  0.0   \n",
       "4336295  {'neg': 0.0, 'neu': 1.0, 'pos': 0.0, 'compound...  0.000  1.000  0.0   \n",
       "4336296  {'neg': 0.0, 'neu': 1.0, 'pos': 0.0, 'compound...  0.000  1.000  0.0   \n",
       "4336297  {'neg': 0.0, 'neu': 1.0, 'pos': 0.0, 'compound...  0.000  1.000  0.0   \n",
       "4336298  {'neg': 0.0, 'neu': 1.0, 'pos': 0.0, 'compound...  0.000  1.000  0.0   \n",
       "\n",
       "         compound  \n",
       "0         -0.4019  \n",
       "1          0.0000  \n",
       "2          0.0000  \n",
       "3          0.0000  \n",
       "4          0.0000  \n",
       "...           ...  \n",
       "4336294    0.0000  \n",
       "4336295    0.0000  \n",
       "4336296    0.0000  \n",
       "4336297    0.0000  \n",
       "4336298    0.0000  \n",
       "\n",
       "[4335969 rows x 10 columns]"
      ]
     },
     "execution_count": 22,
     "metadata": {},
     "output_type": "execute_result"
    }
   ],
   "source": [
    "data"
   ]
  },
  {
   "cell_type": "code",
   "execution_count": 23,
   "id": "70fad9fd",
   "metadata": {},
   "outputs": [],
   "source": [
    "data = data.drop(columns=['sentiment_scores'])\n"
   ]
  },
  {
   "cell_type": "code",
   "execution_count": 24,
   "id": "6b591d17",
   "metadata": {
    "scrolled": true
   },
   "outputs": [
    {
     "data": {
      "text/plain": [
       "commit           string[python]\n",
       "author           string[python]\n",
       "date        datetime64[ns, UTC]\n",
       "message          string[python]\n",
       "repo                   category\n",
       "pos                     float64\n",
       "neg                     float64\n",
       "neu                     float64\n",
       "compound                float64\n",
       "dtype: object"
      ]
     },
     "execution_count": 24,
     "metadata": {},
     "output_type": "execute_result"
    }
   ],
   "source": [
    "data.dtypes"
   ]
  },
  {
   "cell_type": "markdown",
   "id": "8da73916",
   "metadata": {},
   "source": [
    " Visualize Sentiment Trends Over Time:\n"
   ]
  },
  {
   "cell_type": "code",
   "execution_count": 25,
   "id": "152b1dd2",
   "metadata": {},
   "outputs": [],
   "source": [
    "\n",
    "data.to_csv('sentiment_data.csv',index=False)"
   ]
  },
  {
   "cell_type": "code",
   "execution_count": 26,
   "id": "228162d6",
   "metadata": {},
   "outputs": [],
   "source": [
    "import gzip"
   ]
  },
  {
   "cell_type": "code",
   "execution_count": 27,
   "id": "3faa148c",
   "metadata": {},
   "outputs": [],
   "source": [
    "output='sentiment_data.csv.gz'\n",
    "\n",
    "with gzip.open(output,'wt',encoding='utf-8') as f:\n",
    "    data.to_csv(f,index=False)"
   ]
  },
  {
   "cell_type": "markdown",
   "id": "7022111d",
   "metadata": {},
   "source": [
    "Project Health Monitoring:\n",
    "Sentiment distribution over time. "
   ]
  },
  {
   "cell_type": "code",
   "execution_count": 28,
   "id": "5bd35bbf",
   "metadata": {},
   "outputs": [],
   "source": [
    "daily_sentiment=data.groupby('date')[['pos','neg','neu','compound']].mean()"
   ]
  },
  {
   "cell_type": "code",
   "execution_count": 29,
   "id": "10c3b31b",
   "metadata": {},
   "outputs": [
    {
     "data": {
      "text/html": [
       "<div>\n",
       "<style scoped>\n",
       "    .dataframe tbody tr th:only-of-type {\n",
       "        vertical-align: middle;\n",
       "    }\n",
       "\n",
       "    .dataframe tbody tr th {\n",
       "        vertical-align: top;\n",
       "    }\n",
       "\n",
       "    .dataframe thead th {\n",
       "        text-align: right;\n",
       "    }\n",
       "</style>\n",
       "<table border=\"1\" class=\"dataframe\">\n",
       "  <thead>\n",
       "    <tr style=\"text-align: right;\">\n",
       "      <th></th>\n",
       "      <th>pos</th>\n",
       "      <th>neg</th>\n",
       "      <th>neu</th>\n",
       "      <th>compound</th>\n",
       "    </tr>\n",
       "    <tr>\n",
       "      <th>date</th>\n",
       "      <th></th>\n",
       "      <th></th>\n",
       "      <th></th>\n",
       "      <th></th>\n",
       "    </tr>\n",
       "  </thead>\n",
       "  <tbody>\n",
       "    <tr>\n",
       "      <th>1970-01-01 00:00:01+00:00</th>\n",
       "      <td>0.000</td>\n",
       "      <td>0.919</td>\n",
       "      <td>0.081</td>\n",
       "      <td>0.2960</td>\n",
       "    </tr>\n",
       "    <tr>\n",
       "      <th>1972-07-19 00:05:45+00:00</th>\n",
       "      <td>0.000</td>\n",
       "      <td>1.000</td>\n",
       "      <td>0.000</td>\n",
       "      <td>0.0000</td>\n",
       "    </tr>\n",
       "    <tr>\n",
       "      <th>1974-01-20 05:02:03+00:00</th>\n",
       "      <td>0.000</td>\n",
       "      <td>1.000</td>\n",
       "      <td>0.000</td>\n",
       "      <td>0.0000</td>\n",
       "    </tr>\n",
       "    <tr>\n",
       "      <th>1988-04-01 07:02:04+00:00</th>\n",
       "      <td>0.000</td>\n",
       "      <td>1.000</td>\n",
       "      <td>0.000</td>\n",
       "      <td>0.0000</td>\n",
       "    </tr>\n",
       "    <tr>\n",
       "      <th>1988-04-01 07:03:04+00:00</th>\n",
       "      <td>0.000</td>\n",
       "      <td>1.000</td>\n",
       "      <td>0.000</td>\n",
       "      <td>0.0000</td>\n",
       "    </tr>\n",
       "    <tr>\n",
       "      <th>...</th>\n",
       "      <td>...</td>\n",
       "      <td>...</td>\n",
       "      <td>...</td>\n",
       "      <td>...</td>\n",
       "    </tr>\n",
       "    <tr>\n",
       "      <th>2021-04-21 09:27:48+00:00</th>\n",
       "      <td>0.000</td>\n",
       "      <td>1.000</td>\n",
       "      <td>0.000</td>\n",
       "      <td>0.0000</td>\n",
       "    </tr>\n",
       "    <tr>\n",
       "      <th>2021-04-21 09:40:39+00:00</th>\n",
       "      <td>0.024</td>\n",
       "      <td>0.957</td>\n",
       "      <td>0.019</td>\n",
       "      <td>-0.1280</td>\n",
       "    </tr>\n",
       "    <tr>\n",
       "      <th>2030-08-14 07:56:40+00:00</th>\n",
       "      <td>0.015</td>\n",
       "      <td>0.985</td>\n",
       "      <td>0.000</td>\n",
       "      <td>-0.5106</td>\n",
       "    </tr>\n",
       "    <tr>\n",
       "      <th>2037-04-25 08:08:26+00:00</th>\n",
       "      <td>0.166</td>\n",
       "      <td>0.834</td>\n",
       "      <td>0.000</td>\n",
       "      <td>-0.6107</td>\n",
       "    </tr>\n",
       "    <tr>\n",
       "      <th>2085-06-18 15:57:19+00:00</th>\n",
       "      <td>0.137</td>\n",
       "      <td>0.652</td>\n",
       "      <td>0.212</td>\n",
       "      <td>0.7983</td>\n",
       "    </tr>\n",
       "  </tbody>\n",
       "</table>\n",
       "<p>4251600 rows × 4 columns</p>\n",
       "</div>"
      ],
      "text/plain": [
       "                             pos    neg    neu  compound\n",
       "date                                                    \n",
       "1970-01-01 00:00:01+00:00  0.000  0.919  0.081    0.2960\n",
       "1972-07-19 00:05:45+00:00  0.000  1.000  0.000    0.0000\n",
       "1974-01-20 05:02:03+00:00  0.000  1.000  0.000    0.0000\n",
       "1988-04-01 07:02:04+00:00  0.000  1.000  0.000    0.0000\n",
       "1988-04-01 07:03:04+00:00  0.000  1.000  0.000    0.0000\n",
       "...                          ...    ...    ...       ...\n",
       "2021-04-21 09:27:48+00:00  0.000  1.000  0.000    0.0000\n",
       "2021-04-21 09:40:39+00:00  0.024  0.957  0.019   -0.1280\n",
       "2030-08-14 07:56:40+00:00  0.015  0.985  0.000   -0.5106\n",
       "2037-04-25 08:08:26+00:00  0.166  0.834  0.000   -0.6107\n",
       "2085-06-18 15:57:19+00:00  0.137  0.652  0.212    0.7983\n",
       "\n",
       "[4251600 rows x 4 columns]"
      ]
     },
     "execution_count": 29,
     "metadata": {},
     "output_type": "execute_result"
    }
   ],
   "source": [
    "daily_sentiment"
   ]
  },
  {
   "cell_type": "code",
   "execution_count": 30,
   "id": "f5cb4e68",
   "metadata": {},
   "outputs": [
    {
     "name": "stdout",
     "output_type": "stream",
     "text": [
      "<class 'pandas.core.frame.DataFrame'>\n",
      "Index: 4335969 entries, 0 to 4336298\n",
      "Data columns (total 9 columns):\n",
      " #   Column    Dtype              \n",
      "---  ------    -----              \n",
      " 0   commit    string             \n",
      " 1   author    string             \n",
      " 2   date      datetime64[ns, UTC]\n",
      " 3   message   string             \n",
      " 4   repo      category           \n",
      " 5   pos       float64            \n",
      " 6   neg       float64            \n",
      " 7   neu       float64            \n",
      " 8   compound  float64            \n",
      "dtypes: category(1), datetime64[ns, UTC](1), float64(4), string(3)\n",
      "memory usage: 301.9 MB\n"
     ]
    }
   ],
   "source": [
    "data.info()"
   ]
  },
  {
   "cell_type": "code",
   "execution_count": 31,
   "id": "acc1ce3b",
   "metadata": {},
   "outputs": [
    {
     "data": {
      "text/html": [
       "<div>\n",
       "<style scoped>\n",
       "    .dataframe tbody tr th:only-of-type {\n",
       "        vertical-align: middle;\n",
       "    }\n",
       "\n",
       "    .dataframe tbody tr th {\n",
       "        vertical-align: top;\n",
       "    }\n",
       "\n",
       "    .dataframe thead th {\n",
       "        text-align: right;\n",
       "    }\n",
       "</style>\n",
       "<table border=\"1\" class=\"dataframe\">\n",
       "  <thead>\n",
       "    <tr style=\"text-align: right;\">\n",
       "      <th></th>\n",
       "      <th>pos</th>\n",
       "      <th>neg</th>\n",
       "      <th>neu</th>\n",
       "      <th>compound</th>\n",
       "    </tr>\n",
       "  </thead>\n",
       "  <tbody>\n",
       "    <tr>\n",
       "      <th>count</th>\n",
       "      <td>4.335969e+06</td>\n",
       "      <td>4.335969e+06</td>\n",
       "      <td>4.335969e+06</td>\n",
       "      <td>4.335969e+06</td>\n",
       "    </tr>\n",
       "    <tr>\n",
       "      <th>mean</th>\n",
       "      <td>4.212306e-02</td>\n",
       "      <td>9.116678e-01</td>\n",
       "      <td>4.619455e-02</td>\n",
       "      <td>2.147062e-02</td>\n",
       "    </tr>\n",
       "    <tr>\n",
       "      <th>std</th>\n",
       "      <td>7.976825e-02</td>\n",
       "      <td>1.092274e-01</td>\n",
       "      <td>7.905497e-02</td>\n",
       "      <td>3.895697e-01</td>\n",
       "    </tr>\n",
       "    <tr>\n",
       "      <th>min</th>\n",
       "      <td>0.000000e+00</td>\n",
       "      <td>0.000000e+00</td>\n",
       "      <td>0.000000e+00</td>\n",
       "      <td>-1.000000e+00</td>\n",
       "    </tr>\n",
       "    <tr>\n",
       "      <th>25%</th>\n",
       "      <td>0.000000e+00</td>\n",
       "      <td>8.590000e-01</td>\n",
       "      <td>0.000000e+00</td>\n",
       "      <td>-1.027000e-01</td>\n",
       "    </tr>\n",
       "    <tr>\n",
       "      <th>50%</th>\n",
       "      <td>0.000000e+00</td>\n",
       "      <td>9.400000e-01</td>\n",
       "      <td>0.000000e+00</td>\n",
       "      <td>0.000000e+00</td>\n",
       "    </tr>\n",
       "    <tr>\n",
       "      <th>75%</th>\n",
       "      <td>5.900000e-02</td>\n",
       "      <td>1.000000e+00</td>\n",
       "      <td>7.000000e-02</td>\n",
       "      <td>2.732000e-01</td>\n",
       "    </tr>\n",
       "    <tr>\n",
       "      <th>max</th>\n",
       "      <td>1.000000e+00</td>\n",
       "      <td>1.000000e+00</td>\n",
       "      <td>1.000000e+00</td>\n",
       "      <td>1.000000e+00</td>\n",
       "    </tr>\n",
       "  </tbody>\n",
       "</table>\n",
       "</div>"
      ],
      "text/plain": [
       "                pos           neg           neu      compound\n",
       "count  4.335969e+06  4.335969e+06  4.335969e+06  4.335969e+06\n",
       "mean   4.212306e-02  9.116678e-01  4.619455e-02  2.147062e-02\n",
       "std    7.976825e-02  1.092274e-01  7.905497e-02  3.895697e-01\n",
       "min    0.000000e+00  0.000000e+00  0.000000e+00 -1.000000e+00\n",
       "25%    0.000000e+00  8.590000e-01  0.000000e+00 -1.027000e-01\n",
       "50%    0.000000e+00  9.400000e-01  0.000000e+00  0.000000e+00\n",
       "75%    5.900000e-02  1.000000e+00  7.000000e-02  2.732000e-01\n",
       "max    1.000000e+00  1.000000e+00  1.000000e+00  1.000000e+00"
      ]
     },
     "execution_count": 31,
     "metadata": {},
     "output_type": "execute_result"
    }
   ],
   "source": [
    "data.describe()"
   ]
  },
  {
   "cell_type": "code",
   "execution_count": 32,
   "id": "10e0afb5",
   "metadata": {},
   "outputs": [
    {
     "data": {
      "text/plain": [
       "0          False\n",
       "1          False\n",
       "2          False\n",
       "3          False\n",
       "4          False\n",
       "           ...  \n",
       "4336294    False\n",
       "4336295    False\n",
       "4336296    False\n",
       "4336297    False\n",
       "4336298    False\n",
       "Name: date, Length: 4335969, dtype: bool"
      ]
     },
     "execution_count": 32,
     "metadata": {},
     "output_type": "execute_result"
    }
   ],
   "source": [
    "data['date'].isnull()"
   ]
  },
  {
   "cell_type": "code",
   "execution_count": 33,
   "id": "329059cd",
   "metadata": {},
   "outputs": [
    {
     "name": "stdout",
     "output_type": "stream",
     "text": [
      "<class 'pandas.core.frame.DataFrame'>\n",
      "DatetimeIndex: 4251600 entries, 1970-01-01 00:00:01+00:00 to 2085-06-18 15:57:19+00:00\n",
      "Data columns (total 4 columns):\n",
      " #   Column    Dtype  \n",
      "---  ------    -----  \n",
      " 0   pos       float64\n",
      " 1   neg       float64\n",
      " 2   neu       float64\n",
      " 3   compound  float64\n",
      "dtypes: float64(4)\n",
      "memory usage: 162.2 MB\n"
     ]
    }
   ],
   "source": [
    "daily_sentiment.info()"
   ]
  },
  {
   "cell_type": "code",
   "execution_count": 34,
   "id": "ec523c2d",
   "metadata": {},
   "outputs": [
    {
     "data": {
      "text/plain": [
       "4336294   2015-11-13 15:36:52+00:00\n",
       "4336295   2015-11-13 14:18:17+00:00\n",
       "4336296   2015-11-13 15:32:42+00:00\n",
       "4336297   2015-11-13 14:48:38+00:00\n",
       "4336298   2015-11-13 13:39:38+00:00\n",
       "Name: date, dtype: datetime64[ns, UTC]"
      ]
     },
     "execution_count": 34,
     "metadata": {},
     "output_type": "execute_result"
    }
   ],
   "source": [
    "data['date'].tail()"
   ]
  },
  {
   "cell_type": "code",
   "execution_count": 35,
   "id": "ad6bbcee",
   "metadata": {},
   "outputs": [],
   "source": [
    "randomvar=data[data['date'].dt.year==2037]"
   ]
  },
  {
   "cell_type": "code",
   "execution_count": 36,
   "id": "2f63544c",
   "metadata": {},
   "outputs": [
    {
     "name": "stdout",
     "output_type": "stream",
     "text": [
      "                                           commit  \\\n",
      "2889405  12ca45fea91cfbb09df828bea958b47348caee6d   \n",
      "\n",
      "                                         author                      date  \\\n",
      "2889405  Daniel Vetter <daniel.vetter@ffwll.ch> 2037-04-25 08:08:26+00:00   \n",
      "\n",
      "                                                   message            repo  \\\n",
      "2889405  drm/i915: overlay: extract some duplicated cod...  torvalds/linux   \n",
      "\n",
      "           pos    neg  neu  compound  \n",
      "2889405  0.166  0.834  0.0   -0.6107  \n"
     ]
    }
   ],
   "source": [
    "print(randomvar)"
   ]
  },
  {
   "cell_type": "code",
   "execution_count": 37,
   "id": "bd72d2ab",
   "metadata": {},
   "outputs": [],
   "source": [
    "filtered_data=data[data['date'].dt.year<=2021]"
   ]
  },
  {
   "cell_type": "code",
   "execution_count": 43,
   "id": "faea9eec",
   "metadata": {},
   "outputs": [],
   "source": [
    "daily_sentiment=filtered_data.groupby('date')[['pos','neg','neu','compound']].mean()"
   ]
  },
  {
   "cell_type": "code",
   "execution_count": 44,
   "id": "43732af7",
   "metadata": {},
   "outputs": [
    {
     "data": {
      "text/html": [
       "<div>\n",
       "<style scoped>\n",
       "    .dataframe tbody tr th:only-of-type {\n",
       "        vertical-align: middle;\n",
       "    }\n",
       "\n",
       "    .dataframe tbody tr th {\n",
       "        vertical-align: top;\n",
       "    }\n",
       "\n",
       "    .dataframe thead th {\n",
       "        text-align: right;\n",
       "    }\n",
       "</style>\n",
       "<table border=\"1\" class=\"dataframe\">\n",
       "  <thead>\n",
       "    <tr style=\"text-align: right;\">\n",
       "      <th></th>\n",
       "      <th>pos</th>\n",
       "      <th>neg</th>\n",
       "      <th>neu</th>\n",
       "      <th>compound</th>\n",
       "    </tr>\n",
       "    <tr>\n",
       "      <th>date</th>\n",
       "      <th></th>\n",
       "      <th></th>\n",
       "      <th></th>\n",
       "      <th></th>\n",
       "    </tr>\n",
       "  </thead>\n",
       "  <tbody>\n",
       "    <tr>\n",
       "      <th>1970-01-01 00:00:01+00:00</th>\n",
       "      <td>0.000</td>\n",
       "      <td>0.919</td>\n",
       "      <td>0.081</td>\n",
       "      <td>0.2960</td>\n",
       "    </tr>\n",
       "    <tr>\n",
       "      <th>1972-07-19 00:05:45+00:00</th>\n",
       "      <td>0.000</td>\n",
       "      <td>1.000</td>\n",
       "      <td>0.000</td>\n",
       "      <td>0.0000</td>\n",
       "    </tr>\n",
       "    <tr>\n",
       "      <th>1974-01-20 05:02:03+00:00</th>\n",
       "      <td>0.000</td>\n",
       "      <td>1.000</td>\n",
       "      <td>0.000</td>\n",
       "      <td>0.0000</td>\n",
       "    </tr>\n",
       "    <tr>\n",
       "      <th>1988-04-01 07:02:04+00:00</th>\n",
       "      <td>0.000</td>\n",
       "      <td>1.000</td>\n",
       "      <td>0.000</td>\n",
       "      <td>0.0000</td>\n",
       "    </tr>\n",
       "    <tr>\n",
       "      <th>1988-04-01 07:03:04+00:00</th>\n",
       "      <td>0.000</td>\n",
       "      <td>1.000</td>\n",
       "      <td>0.000</td>\n",
       "      <td>0.0000</td>\n",
       "    </tr>\n",
       "    <tr>\n",
       "      <th>...</th>\n",
       "      <td>...</td>\n",
       "      <td>...</td>\n",
       "      <td>...</td>\n",
       "      <td>...</td>\n",
       "    </tr>\n",
       "    <tr>\n",
       "      <th>2021-04-21 08:58:29+00:00</th>\n",
       "      <td>0.034</td>\n",
       "      <td>0.966</td>\n",
       "      <td>0.000</td>\n",
       "      <td>-0.5423</td>\n",
       "    </tr>\n",
       "    <tr>\n",
       "      <th>2021-04-21 09:24:42+00:00</th>\n",
       "      <td>0.000</td>\n",
       "      <td>0.597</td>\n",
       "      <td>0.403</td>\n",
       "      <td>0.4019</td>\n",
       "    </tr>\n",
       "    <tr>\n",
       "      <th>2021-04-21 09:25:14+00:00</th>\n",
       "      <td>0.000</td>\n",
       "      <td>1.000</td>\n",
       "      <td>0.000</td>\n",
       "      <td>0.0000</td>\n",
       "    </tr>\n",
       "    <tr>\n",
       "      <th>2021-04-21 09:27:48+00:00</th>\n",
       "      <td>0.000</td>\n",
       "      <td>1.000</td>\n",
       "      <td>0.000</td>\n",
       "      <td>0.0000</td>\n",
       "    </tr>\n",
       "    <tr>\n",
       "      <th>2021-04-21 09:40:39+00:00</th>\n",
       "      <td>0.024</td>\n",
       "      <td>0.957</td>\n",
       "      <td>0.019</td>\n",
       "      <td>-0.1280</td>\n",
       "    </tr>\n",
       "  </tbody>\n",
       "</table>\n",
       "<p>4251597 rows × 4 columns</p>\n",
       "</div>"
      ],
      "text/plain": [
       "                             pos    neg    neu  compound\n",
       "date                                                    \n",
       "1970-01-01 00:00:01+00:00  0.000  0.919  0.081    0.2960\n",
       "1972-07-19 00:05:45+00:00  0.000  1.000  0.000    0.0000\n",
       "1974-01-20 05:02:03+00:00  0.000  1.000  0.000    0.0000\n",
       "1988-04-01 07:02:04+00:00  0.000  1.000  0.000    0.0000\n",
       "1988-04-01 07:03:04+00:00  0.000  1.000  0.000    0.0000\n",
       "...                          ...    ...    ...       ...\n",
       "2021-04-21 08:58:29+00:00  0.034  0.966  0.000   -0.5423\n",
       "2021-04-21 09:24:42+00:00  0.000  0.597  0.403    0.4019\n",
       "2021-04-21 09:25:14+00:00  0.000  1.000  0.000    0.0000\n",
       "2021-04-21 09:27:48+00:00  0.000  1.000  0.000    0.0000\n",
       "2021-04-21 09:40:39+00:00  0.024  0.957  0.019   -0.1280\n",
       "\n",
       "[4251597 rows x 4 columns]"
      ]
     },
     "execution_count": 44,
     "metadata": {},
     "output_type": "execute_result"
    }
   ],
   "source": [
    "daily_sentiment"
   ]
  },
  {
   "cell_type": "code",
   "execution_count": 45,
   "id": "ed7c1a17",
   "metadata": {},
   "outputs": [
    {
     "data": {
      "text/plain": [
       "pos         0\n",
       "neg         0\n",
       "neu         0\n",
       "compound    0\n",
       "dtype: int64"
      ]
     },
     "execution_count": 45,
     "metadata": {},
     "output_type": "execute_result"
    }
   ],
   "source": [
    "daily_sentiment.isnull().sum()"
   ]
  },
  {
   "cell_type": "code",
   "execution_count": 46,
   "id": "399dfcf2",
   "metadata": {},
   "outputs": [
    {
     "data": {
      "text/plain": [
       "<Figure size 1000x600 with 0 Axes>"
      ]
     },
     "execution_count": 46,
     "metadata": {},
     "output_type": "execute_result"
    },
    {
     "data": {
      "text/plain": [
       "<Figure size 1000x600 with 0 Axes>"
      ]
     },
     "metadata": {},
     "output_type": "display_data"
    }
   ],
   "source": [
    "plt.figure(figsize=(10,6))"
   ]
  },
  {
   "cell_type": "code",
   "execution_count": 50,
   "id": "ddf1d066",
   "metadata": {},
   "outputs": [
    {
     "data": {
      "image/png": "[encoded data removed]",
      "text/plain": [
       "<Figure size 640x480 with 1 Axes>"
      ]
     },
     "metadata": {},
     "output_type": "display_data"
    }
   ],
   "source": [
    "for col in daily_sentiment.columns:\n",
    "    plt.plot(daily_sentiment.index,daily_sentiment[col],label=col.upper())\n",
    "plt.xlabel('Date')\n",
    "plt.ylabel('Sentiment Score')\n",
    "plt.title('Sentiment Trends Over time')\n",
    "plt.legend()\n",
    "plt.show()    \n"
   ]
  },
  {
   "cell_type": "code",
   "execution_count": 51,
   "id": "a741ab59",
   "metadata": {},
   "outputs": [
    {
     "ename": "NameError",
     "evalue": "name 'processed_df' is not defined",
     "output_type": "error",
     "traceback": [
      "\u001b[1;31m---------------------------------------------------------------------------\u001b[0m",
      "\u001b[1;31mNameError\u001b[0m                                 Traceback (most recent call last)",
      "Cell \u001b[1;32mIn[51], line 10\u001b[0m\n\u001b[0;32m      7\u001b[0m fig4, ax4 \u001b[38;5;241m=\u001b[39m plt\u001b[38;5;241m.\u001b[39msubplots(figsize\u001b[38;5;241m=\u001b[39m(\u001b[38;5;241m20\u001b[39m, \u001b[38;5;241m10\u001b[39m))\n\u001b[0;32m      9\u001b[0m \u001b[38;5;66;03m# Group data by repo and year\u001b[39;00m\n\u001b[1;32m---> 10\u001b[0m year_df \u001b[38;5;241m=\u001b[39m processed_df\u001b[38;5;241m.\u001b[39mgroupby([\u001b[38;5;124m'\u001b[39m\u001b[38;5;124mrepo\u001b[39m\u001b[38;5;124m'\u001b[39m, \u001b[38;5;124m'\u001b[39m\u001b[38;5;124myear\u001b[39m\u001b[38;5;124m'\u001b[39m])\u001b[38;5;241m.\u001b[39mdate\u001b[38;5;241m.\u001b[39msum()\u001b[38;5;241m.\u001b[39mreset_index()\u001b[38;5;241m.\u001b[39msort_values([\u001b[38;5;124m'\u001b[39m\u001b[38;5;124mrepo\u001b[39m\u001b[38;5;124m'\u001b[39m, \u001b[38;5;124m'\u001b[39m\u001b[38;5;124myear\u001b[39m\u001b[38;5;124m'\u001b[39m])\n\u001b[0;32m     12\u001b[0m \u001b[38;5;66;03m# Get unique repos\u001b[39;00m\n\u001b[0;32m     13\u001b[0m repos \u001b[38;5;241m=\u001b[39m year_df[\u001b[38;5;124m'\u001b[39m\u001b[38;5;124mrepo\u001b[39m\u001b[38;5;124m'\u001b[39m]\u001b[38;5;241m.\u001b[39munique()\n",
      "\u001b[1;31mNameError\u001b[0m: name 'processed_df' is not defined"
     ]
    },
    {
     "data": {
      "image/png": "[encoded data removed]",
      "text/plain": [
       "<Figure size 2000x1000 with 1 Axes>"
      ]
     },
     "metadata": {},
     "output_type": "display_data"
    }
   ],
   "source": [
    "%matplotlib inline\n",
    "from IPython.display import display, clear_output\n",
    "import matplotlib.pyplot as plt\n",
    "import matplotlib.ticker as ticker\n",
    "from matplotlib.animation import FuncAnimation\n",
    "\n",
    "fig4, ax4 = plt.subplots(figsize=(20, 10))\n",
    "\n",
    "# Group data by repo and year\n",
    "year_df = processed_df.groupby(['repo', 'year']).date.sum().reset_index().sort_values(['repo', 'year'])\n",
    "\n",
    "# Get unique repos\n",
    "repos = year_df['repo'].unique()\n",
    "\n",
    "def get_all_year(year):\n",
    "    ax4.clear()\n",
    "    ax4.xaxis.set_major_formatter(ticker.StrMethodFormatter('{x:.0f}'))\n",
    "    \n",
    "    for repo in repos:\n",
    "        repo_df = year_df[(year_df.repo == repo) & (year_df.year <= year)]\n",
    "        line, = ax4.plot(repo_df.year, repo_df.date, label=repo, color=color[repo])\n",
    "\n",
    "    ax4.legend(bbox_to_anchor=(1.05, 1), loc=2, borderaxespad=0.)\n",
    "    ax4.set_xlabel('Year', size=20)\n",
    "    ax4.set_ylabel('Number of commits', size=20)\n",
    "    ax4.set_title('Number of commits per year', size=20)\n",
    "\n",
    "# Loop through years and update the plot\n",
    "for year in range(processed_df.year.min(), processed_df.year.max() + 1):\n",
    "    get_all_year(year)\n",
    "    display(fig4)\n",
    "    clear_output(wait=True)\n"
   ]
  },
  {
   "cell_type": "code",
   "execution_count": null,
   "id": "7f156297",
   "metadata": {},
   "outputs": [],
   "source": []
  }
 ],
 "metadata": {
  "kernelspec": {
   "display_name": "Python 3 (ipykernel)",
   "language": "python",
   "name": "python3"
  },
  "language_info": {
   "codemirror_mode": {
    "name": "ipython",
    "version": 3
   },
   "file_extension": ".py",
   "mimetype": "text/x-python",
   "name": "python",
   "nbconvert_exporter": "python",
   "pygments_lexer": "ipython3",
   "version": "3.11.5"
  }
 },
 "nbformat": 4,
 "nbformat_minor": 5
}
